{
  "nbformat": 4,
  "nbformat_minor": 0,
  "metadata": {
    "colab": {
      "name": "Quora Insincere Questions Classification -LSTM.ipynb",
      "provenance": [],
      "collapsed_sections": [
        "opuM36LHsqeb"
      ],
      "machine_shape": "hm",
      "authorship_tag": "ABX9TyO7PhJk5kyba43t91pFWu3X",
      "include_colab_link": true
    },
    "kernelspec": {
      "name": "python3",
      "display_name": "Python 3"
    },
    "language_info": {
      "name": "python"
    },
    "widgets": {
      "application/vnd.jupyter.widget-state+json": {
        "a0822be037a44a75b3dd423ca58efe8c": {
          "model_module": "@jupyter-widgets/controls",
          "model_name": "HBoxModel",
          "state": {
            "_view_name": "HBoxView",
            "_dom_classes": [],
            "_model_name": "HBoxModel",
            "_view_module": "@jupyter-widgets/controls",
            "_model_module_version": "1.5.0",
            "_view_count": null,
            "_view_module_version": "1.5.0",
            "box_style": "",
            "layout": "IPY_MODEL_4d118f2ebc024d378ae0020a48b779bf",
            "_model_module": "@jupyter-widgets/controls",
            "children": [
              "IPY_MODEL_d39d2028199d47bba7fc9ec105750b46",
              "IPY_MODEL_16373b53ceca47019c0599f2393f2c47"
            ]
          }
        },
        "4d118f2ebc024d378ae0020a48b779bf": {
          "model_module": "@jupyter-widgets/base",
          "model_name": "LayoutModel",
          "state": {
            "_view_name": "LayoutView",
            "grid_template_rows": null,
            "right": null,
            "justify_content": null,
            "_view_module": "@jupyter-widgets/base",
            "overflow": null,
            "_model_module_version": "1.2.0",
            "_view_count": null,
            "flex_flow": null,
            "width": null,
            "min_width": null,
            "border": null,
            "align_items": null,
            "bottom": null,
            "_model_module": "@jupyter-widgets/base",
            "top": null,
            "grid_column": null,
            "overflow_y": null,
            "overflow_x": null,
            "grid_auto_flow": null,
            "grid_area": null,
            "grid_template_columns": null,
            "flex": null,
            "_model_name": "LayoutModel",
            "justify_items": null,
            "grid_row": null,
            "max_height": null,
            "align_content": null,
            "visibility": null,
            "align_self": null,
            "height": null,
            "min_height": null,
            "padding": null,
            "grid_auto_rows": null,
            "grid_gap": null,
            "max_width": null,
            "order": null,
            "_view_module_version": "1.2.0",
            "grid_template_areas": null,
            "object_position": null,
            "object_fit": null,
            "grid_auto_columns": null,
            "margin": null,
            "display": null,
            "left": null
          }
        },
        "d39d2028199d47bba7fc9ec105750b46": {
          "model_module": "@jupyter-widgets/controls",
          "model_name": "FloatProgressModel",
          "state": {
            "_view_name": "ProgressView",
            "style": "IPY_MODEL_4c40d49fc04d40de913296250b8021a1",
            "_dom_classes": [],
            "description": "100%",
            "_model_name": "FloatProgressModel",
            "bar_style": "success",
            "max": 1306122,
            "_view_module": "@jupyter-widgets/controls",
            "_model_module_version": "1.5.0",
            "value": 1306122,
            "_view_count": null,
            "_view_module_version": "1.5.0",
            "orientation": "horizontal",
            "min": 0,
            "description_tooltip": null,
            "_model_module": "@jupyter-widgets/controls",
            "layout": "IPY_MODEL_cef87cd37b7a4482925e4c961b9d470d"
          }
        },
        "16373b53ceca47019c0599f2393f2c47": {
          "model_module": "@jupyter-widgets/controls",
          "model_name": "HTMLModel",
          "state": {
            "_view_name": "HTMLView",
            "style": "IPY_MODEL_ae1bf40ec6f34bf3acf2f42995b48096",
            "_dom_classes": [],
            "description": "",
            "_model_name": "HTMLModel",
            "placeholder": "​",
            "_view_module": "@jupyter-widgets/controls",
            "_model_module_version": "1.5.0",
            "value": " 1306122/1306122 [00:09&lt;00:00, 132609.14it/s]",
            "_view_count": null,
            "_view_module_version": "1.5.0",
            "description_tooltip": null,
            "_model_module": "@jupyter-widgets/controls",
            "layout": "IPY_MODEL_352168a05e3c40d0b61afe4e0cb7540a"
          }
        },
        "4c40d49fc04d40de913296250b8021a1": {
          "model_module": "@jupyter-widgets/controls",
          "model_name": "ProgressStyleModel",
          "state": {
            "_view_name": "StyleView",
            "_model_name": "ProgressStyleModel",
            "description_width": "initial",
            "_view_module": "@jupyter-widgets/base",
            "_model_module_version": "1.5.0",
            "_view_count": null,
            "_view_module_version": "1.2.0",
            "bar_color": null,
            "_model_module": "@jupyter-widgets/controls"
          }
        },
        "cef87cd37b7a4482925e4c961b9d470d": {
          "model_module": "@jupyter-widgets/base",
          "model_name": "LayoutModel",
          "state": {
            "_view_name": "LayoutView",
            "grid_template_rows": null,
            "right": null,
            "justify_content": null,
            "_view_module": "@jupyter-widgets/base",
            "overflow": null,
            "_model_module_version": "1.2.0",
            "_view_count": null,
            "flex_flow": null,
            "width": null,
            "min_width": null,
            "border": null,
            "align_items": null,
            "bottom": null,
            "_model_module": "@jupyter-widgets/base",
            "top": null,
            "grid_column": null,
            "overflow_y": null,
            "overflow_x": null,
            "grid_auto_flow": null,
            "grid_area": null,
            "grid_template_columns": null,
            "flex": null,
            "_model_name": "LayoutModel",
            "justify_items": null,
            "grid_row": null,
            "max_height": null,
            "align_content": null,
            "visibility": null,
            "align_self": null,
            "height": null,
            "min_height": null,
            "padding": null,
            "grid_auto_rows": null,
            "grid_gap": null,
            "max_width": null,
            "order": null,
            "_view_module_version": "1.2.0",
            "grid_template_areas": null,
            "object_position": null,
            "object_fit": null,
            "grid_auto_columns": null,
            "margin": null,
            "display": null,
            "left": null
          }
        },
        "ae1bf40ec6f34bf3acf2f42995b48096": {
          "model_module": "@jupyter-widgets/controls",
          "model_name": "DescriptionStyleModel",
          "state": {
            "_view_name": "StyleView",
            "_model_name": "DescriptionStyleModel",
            "description_width": "",
            "_view_module": "@jupyter-widgets/base",
            "_model_module_version": "1.5.0",
            "_view_count": null,
            "_view_module_version": "1.2.0",
            "_model_module": "@jupyter-widgets/controls"
          }
        },
        "352168a05e3c40d0b61afe4e0cb7540a": {
          "model_module": "@jupyter-widgets/base",
          "model_name": "LayoutModel",
          "state": {
            "_view_name": "LayoutView",
            "grid_template_rows": null,
            "right": null,
            "justify_content": null,
            "_view_module": "@jupyter-widgets/base",
            "overflow": null,
            "_model_module_version": "1.2.0",
            "_view_count": null,
            "flex_flow": null,
            "width": null,
            "min_width": null,
            "border": null,
            "align_items": null,
            "bottom": null,
            "_model_module": "@jupyter-widgets/base",
            "top": null,
            "grid_column": null,
            "overflow_y": null,
            "overflow_x": null,
            "grid_auto_flow": null,
            "grid_area": null,
            "grid_template_columns": null,
            "flex": null,
            "_model_name": "LayoutModel",
            "justify_items": null,
            "grid_row": null,
            "max_height": null,
            "align_content": null,
            "visibility": null,
            "align_self": null,
            "height": null,
            "min_height": null,
            "padding": null,
            "grid_auto_rows": null,
            "grid_gap": null,
            "max_width": null,
            "order": null,
            "_view_module_version": "1.2.0",
            "grid_template_areas": null,
            "object_position": null,
            "object_fit": null,
            "grid_auto_columns": null,
            "margin": null,
            "display": null,
            "left": null
          }
        },
        "2a075d85dceb4c80958eccd3cc8af6cb": {
          "model_module": "@jupyter-widgets/controls",
          "model_name": "HBoxModel",
          "state": {
            "_view_name": "HBoxView",
            "_dom_classes": [],
            "_model_name": "HBoxModel",
            "_view_module": "@jupyter-widgets/controls",
            "_model_module_version": "1.5.0",
            "_view_count": null,
            "_view_module_version": "1.5.0",
            "box_style": "",
            "layout": "IPY_MODEL_415b481042ff435cb25516e84e2c8bc4",
            "_model_module": "@jupyter-widgets/controls",
            "children": [
              "IPY_MODEL_1117a1318bab46baa707509a650b3690",
              "IPY_MODEL_98b162e88c164dd7866e1c089d30270d"
            ]
          }
        },
        "415b481042ff435cb25516e84e2c8bc4": {
          "model_module": "@jupyter-widgets/base",
          "model_name": "LayoutModel",
          "state": {
            "_view_name": "LayoutView",
            "grid_template_rows": null,
            "right": null,
            "justify_content": null,
            "_view_module": "@jupyter-widgets/base",
            "overflow": null,
            "_model_module_version": "1.2.0",
            "_view_count": null,
            "flex_flow": null,
            "width": null,
            "min_width": null,
            "border": null,
            "align_items": null,
            "bottom": null,
            "_model_module": "@jupyter-widgets/base",
            "top": null,
            "grid_column": null,
            "overflow_y": null,
            "overflow_x": null,
            "grid_auto_flow": null,
            "grid_area": null,
            "grid_template_columns": null,
            "flex": null,
            "_model_name": "LayoutModel",
            "justify_items": null,
            "grid_row": null,
            "max_height": null,
            "align_content": null,
            "visibility": null,
            "align_self": null,
            "height": null,
            "min_height": null,
            "padding": null,
            "grid_auto_rows": null,
            "grid_gap": null,
            "max_width": null,
            "order": null,
            "_view_module_version": "1.2.0",
            "grid_template_areas": null,
            "object_position": null,
            "object_fit": null,
            "grid_auto_columns": null,
            "margin": null,
            "display": null,
            "left": null
          }
        },
        "1117a1318bab46baa707509a650b3690": {
          "model_module": "@jupyter-widgets/controls",
          "model_name": "FloatProgressModel",
          "state": {
            "_view_name": "ProgressView",
            "style": "IPY_MODEL_c6470811c0654fde98ad1ea3d828d006",
            "_dom_classes": [],
            "description": "100%",
            "_model_name": "FloatProgressModel",
            "bar_style": "success",
            "max": 229684,
            "_view_module": "@jupyter-widgets/controls",
            "_model_module_version": "1.5.0",
            "value": 229684,
            "_view_count": null,
            "_view_module_version": "1.5.0",
            "orientation": "horizontal",
            "min": 0,
            "description_tooltip": null,
            "_model_module": "@jupyter-widgets/controls",
            "layout": "IPY_MODEL_e96fc87cdcfe4e588fb3f32d7dae9113"
          }
        },
        "98b162e88c164dd7866e1c089d30270d": {
          "model_module": "@jupyter-widgets/controls",
          "model_name": "HTMLModel",
          "state": {
            "_view_name": "HTMLView",
            "style": "IPY_MODEL_a085baee32b04a8599f0d0b7b2e0ee3d",
            "_dom_classes": [],
            "description": "",
            "_model_name": "HTMLModel",
            "placeholder": "​",
            "_view_module": "@jupyter-widgets/controls",
            "_model_module_version": "1.5.0",
            "value": " 229684/229684 [00:00&lt;00:00, 354349.57it/s]",
            "_view_count": null,
            "_view_module_version": "1.5.0",
            "description_tooltip": null,
            "_model_module": "@jupyter-widgets/controls",
            "layout": "IPY_MODEL_5519c582005c4dfc9a5ce0455ef8dfdb"
          }
        },
        "c6470811c0654fde98ad1ea3d828d006": {
          "model_module": "@jupyter-widgets/controls",
          "model_name": "ProgressStyleModel",
          "state": {
            "_view_name": "StyleView",
            "_model_name": "ProgressStyleModel",
            "description_width": "initial",
            "_view_module": "@jupyter-widgets/base",
            "_model_module_version": "1.5.0",
            "_view_count": null,
            "_view_module_version": "1.2.0",
            "bar_color": null,
            "_model_module": "@jupyter-widgets/controls"
          }
        },
        "e96fc87cdcfe4e588fb3f32d7dae9113": {
          "model_module": "@jupyter-widgets/base",
          "model_name": "LayoutModel",
          "state": {
            "_view_name": "LayoutView",
            "grid_template_rows": null,
            "right": null,
            "justify_content": null,
            "_view_module": "@jupyter-widgets/base",
            "overflow": null,
            "_model_module_version": "1.2.0",
            "_view_count": null,
            "flex_flow": null,
            "width": null,
            "min_width": null,
            "border": null,
            "align_items": null,
            "bottom": null,
            "_model_module": "@jupyter-widgets/base",
            "top": null,
            "grid_column": null,
            "overflow_y": null,
            "overflow_x": null,
            "grid_auto_flow": null,
            "grid_area": null,
            "grid_template_columns": null,
            "flex": null,
            "_model_name": "LayoutModel",
            "justify_items": null,
            "grid_row": null,
            "max_height": null,
            "align_content": null,
            "visibility": null,
            "align_self": null,
            "height": null,
            "min_height": null,
            "padding": null,
            "grid_auto_rows": null,
            "grid_gap": null,
            "max_width": null,
            "order": null,
            "_view_module_version": "1.2.0",
            "grid_template_areas": null,
            "object_position": null,
            "object_fit": null,
            "grid_auto_columns": null,
            "margin": null,
            "display": null,
            "left": null
          }
        },
        "a085baee32b04a8599f0d0b7b2e0ee3d": {
          "model_module": "@jupyter-widgets/controls",
          "model_name": "DescriptionStyleModel",
          "state": {
            "_view_name": "StyleView",
            "_model_name": "DescriptionStyleModel",
            "description_width": "",
            "_view_module": "@jupyter-widgets/base",
            "_model_module_version": "1.5.0",
            "_view_count": null,
            "_view_module_version": "1.2.0",
            "_model_module": "@jupyter-widgets/controls"
          }
        },
        "5519c582005c4dfc9a5ce0455ef8dfdb": {
          "model_module": "@jupyter-widgets/base",
          "model_name": "LayoutModel",
          "state": {
            "_view_name": "LayoutView",
            "grid_template_rows": null,
            "right": null,
            "justify_content": null,
            "_view_module": "@jupyter-widgets/base",
            "overflow": null,
            "_model_module_version": "1.2.0",
            "_view_count": null,
            "flex_flow": null,
            "width": null,
            "min_width": null,
            "border": null,
            "align_items": null,
            "bottom": null,
            "_model_module": "@jupyter-widgets/base",
            "top": null,
            "grid_column": null,
            "overflow_y": null,
            "overflow_x": null,
            "grid_auto_flow": null,
            "grid_area": null,
            "grid_template_columns": null,
            "flex": null,
            "_model_name": "LayoutModel",
            "justify_items": null,
            "grid_row": null,
            "max_height": null,
            "align_content": null,
            "visibility": null,
            "align_self": null,
            "height": null,
            "min_height": null,
            "padding": null,
            "grid_auto_rows": null,
            "grid_gap": null,
            "max_width": null,
            "order": null,
            "_view_module_version": "1.2.0",
            "grid_template_areas": null,
            "object_position": null,
            "object_fit": null,
            "grid_auto_columns": null,
            "margin": null,
            "display": null,
            "left": null
          }
        },
        "66e92bdd252e4ea991124d2ef832f6f7": {
          "model_module": "@jupyter-widgets/controls",
          "model_name": "HBoxModel",
          "state": {
            "_view_name": "HBoxView",
            "_dom_classes": [],
            "_model_name": "HBoxModel",
            "_view_module": "@jupyter-widgets/controls",
            "_model_module_version": "1.5.0",
            "_view_count": null,
            "_view_module_version": "1.5.0",
            "box_style": "",
            "layout": "IPY_MODEL_a37b3a072d1e4715bab81c6493edc55d",
            "_model_module": "@jupyter-widgets/controls",
            "children": [
              "IPY_MODEL_5a425ec5b8fd40508f0d86c689795eb9",
              "IPY_MODEL_0a7730cf651a43c892813e6f0d2cc4fd"
            ]
          }
        },
        "a37b3a072d1e4715bab81c6493edc55d": {
          "model_module": "@jupyter-widgets/base",
          "model_name": "LayoutModel",
          "state": {
            "_view_name": "LayoutView",
            "grid_template_rows": null,
            "right": null,
            "justify_content": null,
            "_view_module": "@jupyter-widgets/base",
            "overflow": null,
            "_model_module_version": "1.2.0",
            "_view_count": null,
            "flex_flow": null,
            "width": null,
            "min_width": null,
            "border": null,
            "align_items": null,
            "bottom": null,
            "_model_module": "@jupyter-widgets/base",
            "top": null,
            "grid_column": null,
            "overflow_y": null,
            "overflow_x": null,
            "grid_auto_flow": null,
            "grid_area": null,
            "grid_template_columns": null,
            "flex": null,
            "_model_name": "LayoutModel",
            "justify_items": null,
            "grid_row": null,
            "max_height": null,
            "align_content": null,
            "visibility": null,
            "align_self": null,
            "height": null,
            "min_height": null,
            "padding": null,
            "grid_auto_rows": null,
            "grid_gap": null,
            "max_width": null,
            "order": null,
            "_view_module_version": "1.2.0",
            "grid_template_areas": null,
            "object_position": null,
            "object_fit": null,
            "grid_auto_columns": null,
            "margin": null,
            "display": null,
            "left": null
          }
        },
        "5a425ec5b8fd40508f0d86c689795eb9": {
          "model_module": "@jupyter-widgets/controls",
          "model_name": "FloatProgressModel",
          "state": {
            "_view_name": "ProgressView",
            "style": "IPY_MODEL_36eb95e5a0e14aacab73563575c784ed",
            "_dom_classes": [],
            "description": "100%",
            "_model_name": "FloatProgressModel",
            "bar_style": "success",
            "max": 184806,
            "_view_module": "@jupyter-widgets/controls",
            "_model_module_version": "1.5.0",
            "value": 184806,
            "_view_count": null,
            "_view_module_version": "1.5.0",
            "orientation": "horizontal",
            "min": 0,
            "description_tooltip": null,
            "_model_module": "@jupyter-widgets/controls",
            "layout": "IPY_MODEL_232e8f85336341f6a6033395e9a7ca19"
          }
        },
        "0a7730cf651a43c892813e6f0d2cc4fd": {
          "model_module": "@jupyter-widgets/controls",
          "model_name": "HTMLModel",
          "state": {
            "_view_name": "HTMLView",
            "style": "IPY_MODEL_0bc5a69690a645c78631b80438b7f3ce",
            "_dom_classes": [],
            "description": "",
            "_model_name": "HTMLModel",
            "placeholder": "​",
            "_view_module": "@jupyter-widgets/controls",
            "_model_module_version": "1.5.0",
            "value": " 184806/184806 [00:14&lt;00:00, 12427.75it/s]",
            "_view_count": null,
            "_view_module_version": "1.5.0",
            "description_tooltip": null,
            "_model_module": "@jupyter-widgets/controls",
            "layout": "IPY_MODEL_3388a1420410421aaadedff23b02a948"
          }
        },
        "36eb95e5a0e14aacab73563575c784ed": {
          "model_module": "@jupyter-widgets/controls",
          "model_name": "ProgressStyleModel",
          "state": {
            "_view_name": "StyleView",
            "_model_name": "ProgressStyleModel",
            "description_width": "initial",
            "_view_module": "@jupyter-widgets/base",
            "_model_module_version": "1.5.0",
            "_view_count": null,
            "_view_module_version": "1.2.0",
            "bar_color": null,
            "_model_module": "@jupyter-widgets/controls"
          }
        },
        "232e8f85336341f6a6033395e9a7ca19": {
          "model_module": "@jupyter-widgets/base",
          "model_name": "LayoutModel",
          "state": {
            "_view_name": "LayoutView",
            "grid_template_rows": null,
            "right": null,
            "justify_content": null,
            "_view_module": "@jupyter-widgets/base",
            "overflow": null,
            "_model_module_version": "1.2.0",
            "_view_count": null,
            "flex_flow": null,
            "width": null,
            "min_width": null,
            "border": null,
            "align_items": null,
            "bottom": null,
            "_model_module": "@jupyter-widgets/base",
            "top": null,
            "grid_column": null,
            "overflow_y": null,
            "overflow_x": null,
            "grid_auto_flow": null,
            "grid_area": null,
            "grid_template_columns": null,
            "flex": null,
            "_model_name": "LayoutModel",
            "justify_items": null,
            "grid_row": null,
            "max_height": null,
            "align_content": null,
            "visibility": null,
            "align_self": null,
            "height": null,
            "min_height": null,
            "padding": null,
            "grid_auto_rows": null,
            "grid_gap": null,
            "max_width": null,
            "order": null,
            "_view_module_version": "1.2.0",
            "grid_template_areas": null,
            "object_position": null,
            "object_fit": null,
            "grid_auto_columns": null,
            "margin": null,
            "display": null,
            "left": null
          }
        },
        "0bc5a69690a645c78631b80438b7f3ce": {
          "model_module": "@jupyter-widgets/controls",
          "model_name": "DescriptionStyleModel",
          "state": {
            "_view_name": "StyleView",
            "_model_name": "DescriptionStyleModel",
            "description_width": "",
            "_view_module": "@jupyter-widgets/base",
            "_model_module_version": "1.5.0",
            "_view_count": null,
            "_view_module_version": "1.2.0",
            "_model_module": "@jupyter-widgets/controls"
          }
        },
        "3388a1420410421aaadedff23b02a948": {
          "model_module": "@jupyter-widgets/base",
          "model_name": "LayoutModel",
          "state": {
            "_view_name": "LayoutView",
            "grid_template_rows": null,
            "right": null,
            "justify_content": null,
            "_view_module": "@jupyter-widgets/base",
            "overflow": null,
            "_model_module_version": "1.2.0",
            "_view_count": null,
            "flex_flow": null,
            "width": null,
            "min_width": null,
            "border": null,
            "align_items": null,
            "bottom": null,
            "_model_module": "@jupyter-widgets/base",
            "top": null,
            "grid_column": null,
            "overflow_y": null,
            "overflow_x": null,
            "grid_auto_flow": null,
            "grid_area": null,
            "grid_template_columns": null,
            "flex": null,
            "_model_name": "LayoutModel",
            "justify_items": null,
            "grid_row": null,
            "max_height": null,
            "align_content": null,
            "visibility": null,
            "align_self": null,
            "height": null,
            "min_height": null,
            "padding": null,
            "grid_auto_rows": null,
            "grid_gap": null,
            "max_width": null,
            "order": null,
            "_view_module_version": "1.2.0",
            "grid_template_areas": null,
            "object_position": null,
            "object_fit": null,
            "grid_auto_columns": null,
            "margin": null,
            "display": null,
            "left": null
          }
        }
      }
    },
    "accelerator": "GPU"
  },
  "cells": [
    {
      "cell_type": "markdown",
      "metadata": {
        "id": "view-in-github",
        "colab_type": "text"
      },
      "source": [
        "<a href=\"https://colab.research.google.com/github/pranavrelds/Sentiment-analysis-quora-insincere-question-classification/blob/main/Quora_Insincere_Questions_Classification_LSTM.ipynb\" target=\"_parent\"><img src=\"https://colab.research.google.com/assets/colab-badge.svg\" alt=\"Open In Colab\"/></a>"
      ]
    },
    {
      "cell_type": "code",
      "metadata": {
        "colab": {
          "base_uri": "https://localhost:8080/"
        },
        "id": "x8BPOrHxsMUo",
        "outputId": "d19c03bf-257f-40ec-b8d3-2b19bac78abb"
      },
      "source": [
        "from google.colab import drive\n",
        "drive.mount('/content/drive')"
      ],
      "execution_count": 6,
      "outputs": [
        {
          "output_type": "stream",
          "text": [
            "Mounted at /content/drive\n"
          ],
          "name": "stdout"
        }
      ]
    },
    {
      "cell_type": "markdown",
      "metadata": {
        "id": "fhp0o08-sND4"
      },
      "source": [
        "# Libraries"
      ]
    },
    {
      "cell_type": "code",
      "metadata": {
        "id": "dEeB9bOsGVx5"
      },
      "source": [
        "import operator \n",
        "import numpy as np\n",
        "import pandas as pd\n",
        "import tensorflow as tf\n",
        "from tqdm.notebook import tqdm\n",
        "from collections import Counter\n",
        "import matplotlib.pyplot as plt\n",
        "from keras.optimizers import Adam\n",
        "from gensim.models import KeyedVectors\n",
        "from keras.initializers import Constant\n",
        "from keras.layers.embeddings import Embedding\n",
        "from keras.preprocessing.text import Tokenizer\n",
        "from sklearn.model_selection import train_test_split\n",
        "from keras.models import Model,load_model,Sequential\n",
        "from keras.preprocessing.sequence import pad_sequences\n",
        "from keras.layers import Bidirectional, GlobalMaxPool1D\n",
        "from keras.layers import Dense, Input, LSTM, Dropout, Activation, Conv1D\n",
        "from keras.callbacks import ModelCheckpoint,EarlyStopping,ReduceLROnPlateau\n",
        "from sklearn.metrics import confusion_matrix, classification_report,f1_score"
      ],
      "execution_count": 68,
      "outputs": []
    },
    {
      "cell_type": "markdown",
      "metadata": {
        "id": "lytOonV7C8gl"
      },
      "source": [
        "# Configurations"
      ]
    },
    {
      "cell_type": "code",
      "metadata": {
        "id": "tcTXSwxtDGqj"
      },
      "source": [
        "DIR = '/content/drive/MyDrive/Quora Insincere Questions Classification/'\n",
        "GOOGLE_VECTOR = '/content/drive/MyDrive/Quora Insincere Questions Classification/GoogleNews-vectors-negative300.bin'\n",
        "EMBEDDING_DIM = 300\n",
        "EPOCHS = 4\n",
        "PATIENCE = 2\n",
        "LEARNING_RATE = 0.001\n",
        "BEST_MODEL = '/content/drive/MyDrive/Quora Insincere Questions Classification/BEST_MODEL/model.hdf5'\n",
        "\n",
        "\n",
        "DF_TRAIN = pd.read_csv(DIR+'train.csv')"
      ],
      "execution_count": 38,
      "outputs": []
    },
    {
      "cell_type": "markdown",
      "metadata": {
        "id": "opuM36LHsqeb"
      },
      "source": [
        "# Preprocessing"
      ]
    },
    {
      "cell_type": "code",
      "metadata": {
        "id": "O6SUUATWstEh"
      },
      "source": [
        "import re\n",
        "import json\n",
        "import nltk\n",
        "import spacy\n",
        "import string\n",
        "import numpy as np\n",
        "import pandas as pd\n",
        "from bs4 import BeautifulSoup\n",
        "from nltk.stem import WordNetLemmatizer\n",
        "from spacy.lang.en.stop_words import STOP_WORDS as stopwords\n",
        "\n",
        "\n",
        "# Feature Engineering\n",
        "\n",
        "def get_charcounts(x):\n",
        "\ts = x.split()\n",
        "\tx = ''.join(s)\n",
        "\treturn len(x)\n",
        "\n",
        "def get_wordcounts(x):\n",
        "\tlength = len(str(x).split())\n",
        "\treturn length\n",
        "\n",
        "def get_avg_wordlength(x):\n",
        "\tcount = get_charcounts(x)/get_wordcounts(x)\n",
        "\treturn count\n",
        "\n",
        "def get_stopwords_counts(x):\n",
        "\tl = len([t for t in x.split() if t in stopwords])\n",
        "\treturn l\n",
        "\n",
        "def get_digit_counts(x):\n",
        "\tdigits = re.findall(r'[0-9,.]+', x)\n",
        "\treturn len(digits)\n",
        "\n",
        "def get_uppercase_counts(x):\n",
        "\treturn len([t for t in x.split() if t.isupper()])\n",
        "\n",
        "def get_features(df, text_column):\n",
        "  if type(df) == pd.core.frame.DataFrame:\n",
        "\n",
        "    df['question_text'] = df[text_column].apply(lambda x: str(x))\n",
        "    df['char_counts'] = df[text_column].apply(lambda x: get_charcounts(x))\n",
        "    df['char_length'] =df[text_column].apply(lambda x: len(str(x)))\n",
        "    df['word_counts'] = df[text_column].apply(lambda x: get_wordcounts(x))\n",
        "    df['avg_wordlength'] = df[text_column].apply(lambda x: get_avg_wordlength(x))\n",
        "    df['stopwords_counts'] = df[text_column].apply(lambda x: get_stopwords_counts(x))\n",
        "    df['digits_counts'] = df[text_column].apply(lambda x: get_digit_counts(x))\n",
        "    df['uppercase_counts'] = df[text_column].apply(lambda x: get_uppercase_counts(x))\n",
        "    df['titlewords_count'] = df[text_column].apply(lambda x: len([w for w in str(x).split() if w.istitle()]))\n",
        "    df['unique_words_count'] = df[text_column].apply(lambda x: len(set(str(x).split())))\n",
        "    df['numbers_count'] = df[text_column].apply(lambda comment: sum(1 for c in comment if c.isdigit()))\n",
        "    df['punctuations_count'] =df[text_column].apply(lambda x: len([c for c in str(x) if c in string.punctuation]))\n",
        "  \n",
        "  else:\n",
        "     print('ERROR: This function takes only Pandas DataFrame')\n",
        "\t\t\n",
        "  return df\n",
        "\n",
        "# Cleaning text\n",
        "\n",
        "def remove_stopwords(x):\n",
        "\treturn ' '.join([t for t in x.split() if t not in stopwords])\t\n",
        "\n",
        "#https://www.kaggle.com/canming/ensemble-mean-iii-64-36\n",
        "def clean_tag(x):\n",
        "    if '[math]' in x:\n",
        "        x = re.sub('\\[math\\].*?math\\]', 'math eqaution', x)\n",
        "    if 'http' in x or 'www' in x:\n",
        "        x = re.sub('(?:(?:https?|ftp):\\/\\/)?[\\w/\\-?=%.]+\\.[\\w/\\-?=%.]+', 'URL', x)\n",
        "    return x\n",
        "\n",
        "def remove_symbols_and_punctuations(x):\n",
        "  x = str(x)\n",
        "  for symbol in symbols_and_punctuations:\n",
        "    if symbol in x:\n",
        "      x = x.replace(symbol, ' ')\n",
        "    return x\n",
        "\n",
        "def get_spellcorrect(x):\n",
        "  words = x.split()\n",
        "  for i in range(0, len(words)):\n",
        "    if mispell_dict.get(words[i]) is not None:\n",
        "      words[i] = mispell_dict.get(words[i])\n",
        "    elif mispell_dict.get(words[i].lower()) is not None:\n",
        "      words[i] = mispell_dict.get(words[i].lower())\n",
        "        \n",
        "  words = \" \".join(words)\n",
        "  return words\n",
        "\n",
        "def remove_digits(x):\n",
        "    x = re.sub('[0-9]{5,}', '#####', x)\n",
        "    x = re.sub('[0-9]{4}', '####', x)\n",
        "    x = re.sub('[0-9]{3}', '###', x)\n",
        "    x = re.sub('[0-9]{2}', '##', x)\n",
        "    return x\n",
        "\n",
        "def remove_abbreviations(x):\n",
        "\tabbreviations = json.load(open('/content/drive/MyDrive/Quora Insincere Questions Classification/abbreviations.json'))\n",
        "\n",
        "\tif type(x) is str:\n",
        "\t\tfor key in abbreviations:\n",
        "\t\t\tvalue = abbreviations[key]\n",
        "\t\t\traw_text = r'\\b' + key + r'\\b'\n",
        "\t\t\tx = re.sub(raw_text, value, x)\n",
        "\t\treturn x\n",
        "\telse:\n",
        "\t\treturn x\n",
        "\n",
        "def remove_html_tags(x):\n",
        "\treturn BeautifulSoup(x, 'lxml').get_text().strip()\n",
        " \n",
        "def remove_multiple_whitespace(x):\n",
        "  return re.sub(' +', ' ', x)\n",
        "\n",
        "def remove_non_alphanumeric(x):\n",
        "  return re.sub('[\\W_]+', ' ', x, flags=re.UNICODE)\n",
        "\n",
        "def get_clean_text(x):\n",
        "  x = str(x).lower().replace('\\\\', ' ').replace('_', ' ').replace('.', ' ')  \n",
        "  x = clean_tag(x)\n",
        "  x = remove_symbols_and_punctuations(x)\n",
        "  x = get_spellcorrect(x)\n",
        "  x = remove_stopwords(x)\n",
        "  x = remove_abbreviations(x)\n",
        "  return x\n",
        "\n",
        "def preprocess(x):\n",
        "  x = remove_multiple_whitespace(x)\n",
        "  x = remove_symbols_and_punctuations(x)\n",
        "  x = remove_abbreviations(x)\n",
        "  x = get_spellcorrect(x)\n",
        "  x = remove_html_tags(x)\n",
        "  x = remove_non_alphanumeric(x)\n",
        "  x = remove_digits(x)\n",
        "  return x \n",
        "\n",
        "lemmatizer = WordNetLemmatizer()\n",
        "def get_lemmatization(x):\n",
        "  x = x.split()\n",
        "  x = [lemmatizer.lemmatize(word) for word in x]\n",
        "  x = ' '.join(x)\n",
        "  return x\n",
        "\n",
        "def get_vocab(df, text_column, verbose =  True):\n",
        "  sentences = df[text_column].apply(lambda x: x.split()).values\n",
        "  vocab = {}\n",
        "  for sentence in tqdm(sentences, disable = (not verbose)):\n",
        "      for word in sentence:\n",
        "          try:\n",
        "              vocab[word] += 1\n",
        "          except KeyError:\n",
        "              vocab[word] = 1\n",
        "\n",
        "  return vocab\n",
        "\n",
        "#https://www.kaggle.com/christofhenkel/how-to-preprocessing-when-using-embeddings?scriptVersionId=7347748&cellId=13\n",
        "def check_coverage(vocab,embeddings_index):\n",
        "  # check coverage of embedding vs vocabulary of training data\n",
        "    a = {}\n",
        "    # out of vocabulary (oov) \n",
        "    oov = {}\n",
        "    k = 0\n",
        "    i = 0\n",
        "    for word in tqdm(vocab):\n",
        "        try:\n",
        "            a[word] = embeddings_index[word]\n",
        "            k += vocab[word]\n",
        "        except:\n",
        "\n",
        "            oov[word] = vocab[word]\n",
        "            i += vocab[word]\n",
        "            pass\n",
        "\n",
        "    print('Found embeddings for {:.2%} of vocab'.format(len(a) / len(vocab)))\n",
        "    print('Found embeddings for  {:.2%} of all text'.format(k / (k + i)))\n",
        "    sorted_x = sorted(oov.items(), key=operator.itemgetter(1))[::-1]\n",
        "\n",
        "    return sorted_x"
      ],
      "execution_count": 14,
      "outputs": []
    },
    {
      "cell_type": "markdown",
      "metadata": {
        "id": "ngmQJzcaNtaG"
      },
      "source": [
        "## Symbols and Dict"
      ]
    },
    {
      "cell_type": "code",
      "metadata": {
        "id": "CZBuHb5mstJ8"
      },
      "source": [
        "#https://www.kaggle.com/theoviel/improve-your-score-with-text-preprocessing-v2 \n",
        "symbols_and_punctuations = [',', '.', '\"', ':', ')', '(', '-', '!', '?', '|', ';', \"'\", '$', '&', '/', '[', ']', '>', '%', '=', '#', '*', '+', '\\\\', \n",
        "        '•', '~', '@', '£', '·', '_', '{', '}', '©', '^', '®', '`', '<', '→', '°', '€', '™', '›', '♥', '←', '×', '§', '″', '′', \n",
        "        '█', '…', '“', '★', '”', '–', '●', '►', '−', '¢', '¬', '░', '¡', '¶', '↑', '±', '¿', '▾', '═', '¦', '║', '―', '¥', '▓', \n",
        "        '—', '‹', '─', '▒', '：', '⊕', '▼', '▪', '†', '■', '’', '▀', '¨', '▄', '♫', '☆', '¯', '♦', '¤', '▲', '¸', '⋅', '‘', '∞', \n",
        "        '∙', '）', '↓', '、', '│', '（', '»', '，', '♪', '╩', '╚', '・', '╦', '╣', '╔', '╗', '▬', '❤', '≤', '‡', '√', '◄', '━', \n",
        "        '⇒', '▶', '≥', '╝', '♡', '◊', '。', '✈', '≡', '☺', '✔', '↵', '≈', '✓', '♣', '☎', '℃', '◦', '└', '‟', '～', '！', '○', \n",
        "        '◆', '№', '♠', '▌', '✿', '▸', '⁄', '□', '❖', '✦', '．', '÷', '｜', '┃', '／', '￥', '╠', '↩', '✭', '▐', '☼', '☻', '┐', \n",
        "        '├', '«', '∼', '┌', '℉', '☮', '฿', '≦', '♬', '✧', '〉', '－', '⌂', '✖', '･', '◕', '※', '‖', '◀', '‰', '\\x97', '↺', \n",
        "        '∆', '┘', '┬', '╬', '،', '⌘', '⊂', '＞', '〈', '⎙', '？', '☠', '⇐', '▫', '∗', '∈', '≠', '♀', '♔', '˚', '℗', '┗', '＊', \n",
        "        '┼', '❀', '＆', '∩', '♂', '‿', '∑', '‣', '➜', '┛', '⇓', '☯', '⊖', '☀', '┳', '；', '∇', '⇑', '✰', '◇', '♯', '☞', '´', \n",
        "        '↔', '┏', '｡', '◘', '∂', '✌', '♭', '┣', '┴', '┓', '✨', '\\xa0', '˜', '❥', '┫', '℠', '✒', '［', '∫', '\\x93', '≧', '］', \n",
        "        '\\x94', '∀', '♛', '\\x96', '∨', '◎', '↻', '⇩', '＜', '≫', '✩', '✪', '♕', '؟', '₤', '☛', '╮', '␊', '＋', '┈', '％', \n",
        "        '╋', '▽', '⇨', '┻', '⊗', '￡', '।', '▂', '✯', '▇', '＿', '➤', '✞', '＝', '▷', '△', '◙', '▅', '✝', '∧', '␉', '☭', \n",
        "        '┊', '╯', '☾', '➔', '∴', '\\x92', '▃', '↳', '＾', '׳', '➢', '╭', '➡', '＠', '⊙', '☢', '˝', '∏', '„', '∥', '❝', '☐', \n",
        "        '▆', '╱', '⋙', '๏', '☁', '⇔', '▔', '\\x91', '➚', '◡', '╰', '\\x85', '♢', '˙', '۞', '✘', '✮', '☑', '⋆', 'ⓘ', '❒', \n",
        "        '☣', '✉', '⌊', '➠', '∣', '❑', '◢', 'ⓒ', '\\x80', '〒', '∕', '▮', '⦿', '✫', '✚', '⋯', '♩', '☂', '❞', '‗', '܂', '☜', \n",
        "        '‾', '✜', '╲', '∘', '⟩', '＼', '⟨', '·', '✗', '♚', '∅', 'ⓔ', '◣', '͡', '‛', '❦', '◠', '✄', '❄', '∃', '␣', '≪', '｢', \n",
        "        '≅', '◯', '☽', '∎', '｣', '❧', '̅', 'ⓐ', '↘', '⚓', '▣', '˘', '∪', '⇢', '✍', '⊥', '＃', '⎯', '↠', '۩', '☰', '◥', \n",
        "        '⊆', '✽', '⚡', '↪', '❁', '☹', '◼', '☃', '◤', '❏', 'ⓢ', '⊱', '➝', '̣', '✡', '∠', '｀', '▴', '┤', '∝', '♏', 'ⓐ', \n",
        "        '✎', ';', '␤', '＇', '❣', '✂', '✤', 'ⓞ', '☪', '✴', '⌒', '˛', '♒', '＄', '✶', '▻', 'ⓔ', '◌', '◈', '❚', '❂', '￦', \n",
        "        '◉', '╜', '̃', '✱', '╖', '❉', 'ⓡ', '↗', 'ⓣ', '♻', '➽', '׀', '✲', '✬', '☉', '▉', '≒', '☥', '⌐', '♨', '✕', 'ⓝ', \n",
        "        '⊰', '❘', '＂', '⇧', '̵', '➪', '▁', '▏', '⊃', 'ⓛ', '‚', '♰', '́', '✏', '⏑', '̶', 'ⓢ', '⩾', '￠', '❍', '≃', '⋰', '♋', \n",
        "        '､', '̂', '❋', '✳', 'ⓤ', '╤', '▕', '⌣', '✸', '℮', '⁺', '▨', '╨', 'ⓥ', '♈', '❃', '☝', '✻', '⊇', '≻', '♘', '♞', \n",
        "        '◂', '✟', '⌠', '✠', '☚', '✥', '❊', 'ⓒ', '⌈', '❅', 'ⓡ', '♧', 'ⓞ', '▭', '❱', 'ⓣ', '∟', '☕', '♺', '∵', '⍝', 'ⓑ', \n",
        "        '✵', '✣', '٭', '♆', 'ⓘ', '∶', '⚜', '◞', '்', '✹', '➥', '↕', '̳', '∷', '✋', '➧', '∋', '̿', 'ͧ', '┅', '⥤', '⬆', '⋱', \n",
        "        '☄', '↖', '⋮', '۔', '♌', 'ⓛ', '╕', '♓', '❯', '♍', '▋', '✺', '⭐', '✾', '♊', '➣', '▿', 'ⓑ', '♉', '⏠', '◾', '▹', \n",
        "        '⩽', '↦', '╥', '⍵', '⌋', '։', '➨', '∮', '⇥', 'ⓗ', 'ⓓ', '⁻', '⎝', '⌥', '⌉', '◔', '◑', '✼', '♎', '♐', '╪', '⊚', \n",
        "        '☒', '⇤', 'ⓜ', '⎠', '◐', '⚠', '╞', '◗', '⎕', 'ⓨ', '☟', 'ⓟ', '♟', '❈', '↬', 'ⓓ', '◻', '♮', '❙', '♤', '∉', '؛', \n",
        "        '⁂', 'ⓝ', '־', '♑', '╫', '╓', '╳', '⬅', '☔', '☸', '┄', '╧', '׃', '⎢', '❆', '⋄', '⚫', '̏', '☏', '➞', '͂', '␙', \n",
        "        'ⓤ', '◟', '̊', '⚐', '✙', '↙', '̾', '℘', '✷', '⍺', '❌', '⊢', '▵', '✅', 'ⓖ', '☨', '▰', '╡', 'ⓜ', '☤', '∽', '╘', \n",
        "        '˹', '↨', '♙', '⬇', '♱', '⌡', '⠀', '╛', '❕', '┉', 'ⓟ', '̀', '♖', 'ⓚ', '┆', '⎜', '◜', '⚾', '⤴', '✇', '╟', '⎛', \n",
        "        '☩', '➲', '➟', 'ⓥ', 'ⓗ', '⏝', '◃', '╢', '↯', '✆', '˃', '⍴', '❇', '⚽', '╒', '̸', '♜', '☓', '➳', '⇄', '☬', '⚑', \n",
        "        '✐', '⌃', '◅', '▢', '❐', '∊', '☈', '॥', '⎮', '▩', 'ு', '⊹', '‵', '␔', '☊', '➸', '̌', '☿', '⇉', '⊳', '╙', 'ⓦ', \n",
        "        '⇣', '｛', '̄', '↝', '⎟', '▍', '❗', '״', '΄', '▞', '◁', '⛄', '⇝', '⎪', '♁', '⇠', '☇', '✊', 'ி', '｝', '⭕', '➘', \n",
        "        '⁀', '☙', '❛', '❓', '⟲', '⇀', '≲', 'ⓕ', '⎥', '\\u06dd', 'ͤ', '₋', '̱', '̎', '♝', '≳', '▙', '➭', '܀', 'ⓖ', '⇛', '▊', \n",
        "        '⇗', '̷', '⇱', '℅', 'ⓧ', '⚛', '̐', '̕', '⇌', '␀', '≌', 'ⓦ', '⊤', '̓', '☦', 'ⓕ', '▜', '➙', 'ⓨ', '⌨', '◮', '☷', \n",
        "        '◍', 'ⓚ', '≔', '⏩', '⍳', '℞', '┋', '˻', '▚', '≺', 'ْ', '▟', '➻', '̪', '⏪', '̉', '⎞', '┇', '⍟', '⇪', '▎', '⇦', '␝', \n",
        "        '⤷', '≖', '⟶', '♗', '̴', '♄', 'ͨ', '̈', '❜', '̡', '▛', '✁', '➩', 'ா', '˂', '↥', '⏎', '⎷', '̲', '➖', '↲', '⩵', '̗', '❢', \n",
        "        '≎', '⚔', '⇇', '̑', '⊿', '̖', '☍', '➹', '⥊', '⁁', '✢','∙', '）', '↓', '、', '│', '（', '»', '，', '♪', '╩', '╚', '³', '・', '╦', '╣', '╔', '╗', '▬', '❤', 'ï', 'Ø', '¹', '≤', '‡', '√', \n",
        "        'é', '&amp;','₹', 'á', '²', 'ế', '청', '하', '¨', '‘', '√', '\\xa0', '高', '端', '大', '气', '上', '档', '次', '_', '½', 'π', '#', \n",
        "        '小', '鹿', '乱', '撞', '成', '语', 'ë', 'à', 'ç', '@', 'ü', 'č', 'ć', 'ž', 'đ', '°', 'द', 'े', 'श', '्', 'र', 'ो', 'ह', \n",
        "        'ि', 'प', 'स', 'थ', 'त', 'न', 'व', 'ा', 'ल', 'ं', '林', '彪', '€', '\\u200b', '˚', 'ö', '~', '—', '越', '人', 'च', 'म', 'क', \n",
        "        'ु', 'य', 'ी', 'ê', 'ă', 'ễ', '∞', '抗', '日', '神', '剧', '，', '\\uf02d', '–', 'ご', 'め', 'な', 'さ', 'い', 'す', \n",
        "        'み', 'ま', 'せ', 'ん', 'ó', 'è', '£', '¡', 'ś', '≤', '¿', 'λ', '魔', '法', '师', '）', 'ğ', 'ñ', 'ř', '그', '자', '식', '멀', \n",
        "        '쩡', '다', '인', '공', '호', '흡', '데', '혀', '밀', '어', '넣', '는', '거', '보', '니', 'ǒ', 'ú', '️', 'ش', 'ه', 'ا', 'د',\n",
        "        'ة', 'ل', 'ت', 'َ', 'ع', 'م', 'ّ', 'ق', 'ِ', 'ف', 'ي', 'ب', 'ح', 'ْ', 'ث', '³', '饭', '可', '以', '吃', '话', '不', '讲', \n",
        "        '∈', 'ℝ', '爾', '汝', '文', '言', '∀', '禮', 'इ', 'ब', 'छ', 'ड', '़', 'ʒ', '有', '「', '寧', '錯', '殺', '一', '千', '絕', \n",
        "        '放', '過', '」', '之', '勢', '㏒', '㏑', 'ू', 'â', 'ω', 'ą', 'ō', '精', '杯', 'í', '生', '懸', '命', 'ਨ', 'ਾ', 'ਮ', 'ੁ', \n",
        "        '₁', '₂', 'ϵ', 'ä', 'к', 'ɾ', '\\ufeff', 'ã', '©', '\\x9d', 'ū', '™', '＝', 'ù', 'ɪ', 'ŋ', 'خ', 'ر', 'س', 'ن', 'ḵ', 'ā',\n",
        "        'σ', '≡', '¹', '⊆', 'ı', '∆', 'μ', '卐', '¿', '∑', '≥', 'å', 'x₁','∆g','ⁿ','∘','▾','ψ', 'का', 'एक', 'को', 'लगाना', 'ß']\n",
        "\n",
        "mispell_dict = {\"ain't\": \"is not\", \"aren't\": \"are not\",\"can't\": \"cannot\", \"'cause\": \"because\", \"could've\": \"could have\", \"couldn't\": \"could not\", \"didn't\": \"did not\",\n",
        "                \"doesn't\": \"does not\", \"don't\": \"do not\", \"hadn't\": \"had not\", \"hasn't\": \"has not\", \"haven't\": \"have not\", \"he'd\": \"he would\",\"he'll\": \"he will\",\n",
        "                \"he's\": \"he is\", \"how'd\": \"how did\", \"how'd'y\": \"how do you\", \"how'll\": \"how will\", \"how's\": \"how is\",  \"I'd\": \"I would\", \"I'd've\": \"I would have\",\n",
        "                \"I'll\": \"I will\", \"I'll've\": \"I will have\",\"I'm\": \"I am\", \"I've\": \"I have\", \"i'd\": \"i would\", \"i'd've\": \"i would have\", \"i'll\": \"i will\",\n",
        "                \"i'll've\": \"i will have\",\"i'm\": \"i am\", \"i've\": \"i have\", \"isn't\": \"is not\", \"it'd\": \"it would\", \"it'd've\": \"it would have\", \"it'll\": \"it will\",\n",
        "                \"it'll've\": \"it will have\",\"it's\": \"it is\", \"let's\": \"let us\", \"ma'am\": \"madam\", \"mayn't\": \"may not\", \"might've\": \"might have\",\"mightn't\": \"might not\",\n",
        "                \"mightn't've\": \"might not have\", \"must've\": \"must have\", \"mustn't\": \"must not\", \"mustn't've\": \"must not have\", \"needn't\": \"need not\",\n",
        "                \"needn't've\": \"need not have\",\"o'clock\": \"of the clock\", \"oughtn't\": \"ought not\", \"oughtn't've\": \"ought not have\", \"shan't\": \"shall not\",\n",
        "                \"sha'n't\": \"shall not\", \"shan't've\": \"shall not have\", \"she'd\": \"she would\", \"she'd've\": \"she would have\", \"she'll\": \"she will\",\n",
        "                \"she'll've\": \"she will have\", \"she's\": \"she is\", \"should've\": \"should have\", \"shouldn't\": \"should not\", \"shouldn't've\": \"should not have\",\n",
        "                \"so've\": \"so have\",\"so's\": \"so as\", \"this's\": \"this is\",\"that'd\": \"that would\", \"that'd've\": \"that would have\", \"that's\": \"that is\",\n",
        "                \"there'd\": \"there would\", \"there'd've\": \"there would have\", \"there's\": \"there is\", \"here's\": \"here is\",\"they'd\": \"they would\",\n",
        "                \"they'd've\": \"they would have\", \"they'll\": \"they will\", \"they'll've\": \"they will have\", \"they're\": \"they are\", \"they've\": \"they have\",\n",
        "                \"to've\": \"to have\", \"wasn't\": \"was not\", \"we'd\": \"we would\", \"we'd've\": \"we would have\", \"we'll\": \"we will\", \"we'll've\": \"we will have\",\n",
        "                \"we're\": \"we are\", \"we've\": \"we have\", \"weren't\": \"were not\", \"what'll\": \"what will\", \"what'll've\": \"what will have\", \"what're\": \"what are\",\n",
        "                \"what's\": \"what is\", \"what've\": \"what have\", \"when's\": \"when is\", \"when've\": \"when have\", \"where'd\": \"where did\", \"where's\": \"where is\",\n",
        "                \"where've\": \"where have\", \"who'll\": \"who will\", \"who'll've\": \"who will have\", \"who's\": \"who is\", \"who've\": \"who have\", \"why's\": \"why is\",\n",
        "                \"why've\": \"why have\", \"will've\": \"will have\", \"won't\": \"will not\", \"won't've\": \"will not have\", \"would've\": \"would have\", \"wouldn't\": \"would not\",\n",
        "                \"wouldn't've\": \"would not have\", \"y'all\": \"you all\", \"y'all'd\": \"you all would\",\"y'all'd've\": \"you all would have\",\"y'all're\": \"you all are\",\n",
        "                \"y'all've\": \"you all have\",\"you'd\": \"you would\", \"you'd've\": \"you would have\", \"you'll\": \"you will\", \"you'll've\": \"you will have\", \"you're\": \"you are\",\n",
        "                \"you've\": \"you have\", 'colour': 'color', 'centre': 'center', 'favourite': 'favorite', 'travelling': 'traveling', 'counselling': 'counseling',\n",
        "                'theatre': 'theater', 'cancelled': 'canceled', 'labour': 'labor', 'organisation': 'organization', 'wwii': 'world war 2', 'citicise': 'criticize',\n",
        "                'youtu ': 'youtube ', 'Qoura': 'Quora', 'sallary': 'salary', 'Whta': 'What', 'narcisist': 'narcissist', 'howdo': 'how do', 'whatare': 'what are',\n",
        "                'howcan': 'how can', 'howmuch': 'how much', 'howmany': 'how many', 'whydo': 'why do', 'doI': 'do I', 'theBest': 'the best', 'howdoes': 'how does',\n",
        "                'mastrubation': 'masturbation', 'mastrubate': 'masturbate', \"mastrubating\": 'masturbating', 'pennis': 'penis', 'Etherium': 'bitcoin', 'narcissit': 'narcissist',\n",
        "                'bigdata': 'big data', '2k17': '2017', '2k18': '2018', 'qouta': 'quota', 'exboyfriend': 'ex boyfriend', 'airhostess': 'air hostess', \"whst\": 'what',\n",
        "                'watsapp': 'whatsapp', 'demonitisation': 'demonetization', 'demonitization': 'demonetization', 'demonetisation': 'demonetization', \n",
        "                'electroneum':'bitcoin','nanodegree':'degree','hotstar':'star','dream11':'dream','ftre':'fire','tensorflow':'framework','unocoin':'bitcoin',\n",
        "                'lnmiit':'limit','unacademy':'academy','altcoin':'bitcoin','altcoins':'bitcoin','litecoin':'bitcoin','coinbase':'bitcoin','cryptocurency':'cryptocurrency',\n",
        "                'simpliv':'simple','quoras':'quora','schizoids':'psychopath','remainers':'remainder','twinflame':'soulmate','quorans':'quora','brexit':'demonetized',\n",
        "                'cryptocoin':'bitcoin','blockchains':'blockchain','fiancee':'fiance','redmi':'smartphone','oneplus':'smartphone','qoura':'quora','deepmind':'framework','ryzen':'cpu','whattsapp':'whatsapp',\n",
        "                'undertale':'adventure','zenfone':'smartphone','cryptocurencies':'cryptocurrencies','koinex':'bitcoin','zebpay':'bitcoin','binance':'bitcoin','whtsapp':'whatsapp',\n",
        "                'reactjs':'framework','bittrex':'bitcoin','bitconnect':'bitcoin','bitfinex':'bitcoin','yourquote':'your quote','whyis':'why is','jiophone':'smartphone',\n",
        "                'dogecoin':'bitcoin','onecoin':'bitcoin','poloniex':'bitcoin','7700k':'cpu','angular2':'framework','segwit2x':'bitcoin','hashflare':'bitcoin','940mx':'gpu',\n",
        "                'openai':'framework','hashflare':'bitcoin','1050ti':'gpu','nearbuy':'near buy','freebitco':'bitcoin','antminer':'bitcoin','filecoin':'bitcoin','whatapp':'whatsapp',\n",
        "                'empowr':'empower','1080ti':'gpu','crytocurrency':'cryptocurrency','8700k':'cpu','whatsaap':'whatsapp','g4560':'cpu','payymoney':'pay money',\n",
        "                'fuckboys':'fuck boys','intenship':'internship','zcash':'bitcoin','demonatisation':'demonetization','narcicist':'narcissist','mastuburation':'masturbation',\n",
        "                'trignometric':'trigonometric','cryptocurreny':'cryptocurrency','howdid':'how did','crytocurrencies':'cryptocurrencies','phycopath':'psychopath',\n",
        "                'bytecoin':'bitcoin','possesiveness':'possessiveness','scollege':'college','humanties':'humanities','altacoin':'bitcoin','demonitised':'demonetized',\n",
        "                'brasília':'brazilia','accolite':'accolyte','econimics':'economics','varrier':'warrier','quroa':'quora','statergy':'strategy','langague':'language',\n",
        "                'splatoon':'game','7600k':'cpu','gate2018':'gate 2018','in2018':'in 2018','narcassist':'narcissist','jiocoin':'bitcoin','hnlu':'hulu','7300hq':'cpu',\n",
        "                'weatern':'western','interledger':'blockchain','deplation':'deflation', 'cryptocurrencies':'cryptocurrency', 'bitcoin':'blockchain cryptocurrency'\n",
        "               }"
      ],
      "execution_count": 13,
      "outputs": []
    },
    {
      "cell_type": "markdown",
      "metadata": {
        "id": "EGDqo-1NslTR"
      },
      "source": [
        "# Word Embeddings and Classification with Deep Learning"
      ]
    },
    {
      "cell_type": "code",
      "metadata": {
        "id": "5650q6xDQPyF"
      },
      "source": [
        "#Preprocess text data by removing, multiple white spaces, non-aplhanumeric characters, symbols etc\n",
        "DF_PREPROCESSING['clean_question_text'] = DF_PREPROCESSING['question_text'].apply(lambda x :preprocess(x))"
      ],
      "execution_count": 16,
      "outputs": []
    },
    {
      "cell_type": "code",
      "metadata": {
        "id": "PDJN1SeFSWuM"
      },
      "source": [
        "# Checkpoint \n",
        "# DF_PREPROCESSING.to_csv(DIR+'df_preprocess_embedding.csv', index=False)"
      ],
      "execution_count": 18,
      "outputs": []
    },
    {
      "cell_type": "code",
      "metadata": {
        "colab": {
          "base_uri": "https://localhost:8080/",
          "height": 67,
          "referenced_widgets": [
            "a0822be037a44a75b3dd423ca58efe8c",
            "4d118f2ebc024d378ae0020a48b779bf",
            "d39d2028199d47bba7fc9ec105750b46",
            "16373b53ceca47019c0599f2393f2c47",
            "4c40d49fc04d40de913296250b8021a1",
            "cef87cd37b7a4482925e4c961b9d470d",
            "ae1bf40ec6f34bf3acf2f42995b48096",
            "352168a05e3c40d0b61afe4e0cb7540a"
          ]
        },
        "id": "e86yHGv9NWiY",
        "outputId": "c3cb9642-dc4b-40e3-8c88-547daf4db0a9"
      },
      "source": [
        "# Create vocabulary of the preprocessed data\n",
        "vocab = get_vocab(DF_PREPROCESSING , 'clean_question_text')"
      ],
      "execution_count": 19,
      "outputs": [
        {
          "output_type": "display_data",
          "data": {
            "application/vnd.jupyter.widget-view+json": {
              "model_id": "a0822be037a44a75b3dd423ca58efe8c",
              "version_minor": 0,
              "version_major": 2
            },
            "text/plain": [
              "HBox(children=(FloatProgress(value=0.0, max=1306122.0), HTML(value='')))"
            ]
          },
          "metadata": {
            "tags": []
          }
        },
        {
          "output_type": "stream",
          "text": [
            "\n"
          ],
          "name": "stdout"
        }
      ]
    },
    {
      "cell_type": "code",
      "metadata": {
        "id": "3c_yDiRvHKhl"
      },
      "source": [
        "# Reading the pretrained model for Word2Vec Embedder\n",
        "emebedding = GOOGLE_VECTOR\n",
        "embeddings_index = KeyedVectors.load_word2vec_format(emebedding, binary=True)"
      ],
      "execution_count": 20,
      "outputs": []
    },
    {
      "cell_type": "code",
      "metadata": {
        "colab": {
          "base_uri": "https://localhost:8080/",
          "height": 104,
          "referenced_widgets": [
            "2a075d85dceb4c80958eccd3cc8af6cb",
            "415b481042ff435cb25516e84e2c8bc4",
            "1117a1318bab46baa707509a650b3690",
            "98b162e88c164dd7866e1c089d30270d",
            "c6470811c0654fde98ad1ea3d828d006",
            "e96fc87cdcfe4e588fb3f32d7dae9113",
            "a085baee32b04a8599f0d0b7b2e0ee3d",
            "5519c582005c4dfc9a5ce0455ef8dfdb"
          ]
        },
        "id": "mWgMmIGmfxy8",
        "outputId": "2e6e87f2-31da-4a53-bd40-24339938c98c"
      },
      "source": [
        "# Check coverage of vocaublary in the embedding\n",
        "coverage = check_coverage(vocab,embeddings_index)"
      ],
      "execution_count": 22,
      "outputs": [
        {
          "output_type": "display_data",
          "data": {
            "application/vnd.jupyter.widget-view+json": {
              "model_id": "2a075d85dceb4c80958eccd3cc8af6cb",
              "version_minor": 0,
              "version_major": 2
            },
            "text/plain": [
              "HBox(children=(FloatProgress(value=0.0, max=229684.0), HTML(value='')))"
            ]
          },
          "metadata": {
            "tags": []
          }
        },
        {
          "output_type": "stream",
          "text": [
            "\n",
            "Found embeddings for 63.69% of vocab\n",
            "Found embeddings for  90.89% of all text\n"
          ],
          "name": "stdout"
        }
      ]
    },
    {
      "cell_type": "code",
      "metadata": {
        "id": "ZpV0FENYpPIt"
      },
      "source": [
        "def get_tokenize_encode_pad(text,max_length):\n",
        "  # create tokens\n",
        "  tokenizer = Tokenizer()\n",
        "  tokenizer.fit_on_texts(text)\n",
        "  # Transform each word in text to a sequence of integers\n",
        "  encoded_text = tokenizer.texts_to_sequences(text)\n",
        "  # paddind the sequence to same length.\n",
        "  X = pad_sequences(encoded_text, maxlen=max_length, padding='post')\n",
        "  return X, tokenizer"
      ],
      "execution_count": 23,
      "outputs": []
    },
    {
      "cell_type": "code",
      "metadata": {
        "id": "L9Dox_v-iMqE"
      },
      "source": [
        "# max_lenth = 80 as seen in the EDA(word_counts)\n",
        "max_length = 80\n",
        "X, tokenizer = get_tokenize_encode_pad(DF_PREPROCESSING['clean_question_text'], max_length=max_length)"
      ],
      "execution_count": 24,
      "outputs": []
    },
    {
      "cell_type": "code",
      "metadata": {
        "colab": {
          "base_uri": "https://localhost:8080/"
        },
        "id": "ft3UpLHO48vb",
        "outputId": "549b0421-8cc0-47a6-9b63-a8a3219f8ad0"
      },
      "source": [
        "X_data, X_test, y_data, y_test = train_test_split(X, DF_PREPROCESSING['target'], test_size=0.2, random_state=0, stratify=DF_PREPROCESSING['target'])\n",
        "X_train, X_val, y_train, y_val = train_test_split(X_data, y_data, test_size=0.2, random_state=0, stratify=y_data)\n",
        "print('Number of questions in training set : ', X_train.shape[0])\n",
        "print('Number of questions in test set : ', X_test.shape[0])\n",
        "print('Number of questions in validation set : ', X_val.shape[0])"
      ],
      "execution_count": 47,
      "outputs": [
        {
          "output_type": "stream",
          "text": [
            "Number of questions in training set :  835917\n",
            "Number of questions in test set :  261225\n",
            "Number of questions in validation set :  208980\n"
          ],
          "name": "stdout"
        }
      ]
    },
    {
      "cell_type": "code",
      "metadata": {
        "colab": {
          "base_uri": "https://localhost:8080/",
          "height": 85,
          "referenced_widgets": [
            "66e92bdd252e4ea991124d2ef832f6f7",
            "a37b3a072d1e4715bab81c6493edc55d",
            "5a425ec5b8fd40508f0d86c689795eb9",
            "0a7730cf651a43c892813e6f0d2cc4fd",
            "36eb95e5a0e14aacab73563575c784ed",
            "232e8f85336341f6a6033395e9a7ca19",
            "0bc5a69690a645c78631b80438b7f3ce",
            "3388a1420410421aaadedff23b02a948"
          ]
        },
        "id": "e2oAHWwyiMvX",
        "outputId": "87ae2c31-321f-49e3-9c04-d01b0f25fe3e"
      },
      "source": [
        "# Defining the embedding matrix here, where all the words which are not in the pretrained embedding\n",
        "# being assigned a zero vector\n",
        "\n",
        "vocab_length =  len(tokenizer.word_index) + 1\n",
        "\n",
        "embedding_matrix = np.zeros((vocab_length, EMBEDDING_DIM))\n",
        "\n",
        "out_of_vocab_count = 0\n",
        "\n",
        "for word, index in tqdm(tokenizer.word_index.items()):\n",
        "  try:\n",
        "    embedding_vector = embeddings_index.get_vector(word)\n",
        "\n",
        "    embedding_matrix[index] = embedding_vector\n",
        "  except (KeyError):\n",
        "    out_of_vocab_count += 1\n",
        "    continue   \n",
        "print('Total out of vocab words: ', out_of_vocab_count)"
      ],
      "execution_count": 48,
      "outputs": [
        {
          "output_type": "display_data",
          "data": {
            "application/vnd.jupyter.widget-view+json": {
              "model_id": "66e92bdd252e4ea991124d2ef832f6f7",
              "version_minor": 0,
              "version_major": 2
            },
            "text/plain": [
              "HBox(children=(FloatProgress(value=0.0, max=184806.0), HTML(value='')))"
            ]
          },
          "metadata": {
            "tags": []
          }
        },
        {
          "output_type": "stream",
          "text": [
            "\n",
            "Total out of vocab words:  108142\n"
          ],
          "name": "stdout"
        }
      ]
    },
    {
      "cell_type": "code",
      "metadata": {
        "id": "BnBcubDVxZEL"
      },
      "source": [
        "# Defining the embedding layer with pre trained word embeddings. \n",
        "# The embedding layer maps the words to their embedding vectors from the embedding matrix.\n",
        "\n",
        "embedding_layer = Embedding(input_dim = vocab_length,\n",
        "                            output_dim = EMBEDDING_DIM, \n",
        "                            embeddings_initializer=Constant(embedding_matrix),\n",
        "                            input_length=max_length,\n",
        "                            trainable=False) # Trainable to false to use Google embedding"
      ],
      "execution_count": 49,
      "outputs": []
    },
    {
      "cell_type": "code",
      "metadata": {
        "id": "gJblpgrx1B9t"
      },
      "source": [
        "def get_model (max_length):\n",
        "\n",
        "    input = Input(shape=(max_length,))\n",
        "\n",
        "    x = (embedding_layer)(input)\n",
        "\n",
        "    x = Bidirectional(LSTM(128, return_sequences=True))(x)\n",
        "\n",
        "    x = Conv1D(64,3,activation=\"relu\")(x)\n",
        "\n",
        "    x = GlobalMaxPool1D()(x)\n",
        "\n",
        "    x = Dense(128, activation=\"relu\")(x)\n",
        "\n",
        "    x = Dropout(0.2)(x)\n",
        "\n",
        "    output = Dense(1, activation=\"sigmoid\")(x)\n",
        "\n",
        "    model = Model(inputs=input, outputs=output)\n",
        "    \n",
        "    model.summary()\n",
        "    return model"
      ],
      "execution_count": 50,
      "outputs": []
    },
    {
      "cell_type": "code",
      "metadata": {
        "colab": {
          "base_uri": "https://localhost:8080/"
        },
        "id": "RBB4IjcU1CAr",
        "outputId": "d827b344-d81f-4d81-b603-4b64e1889421"
      },
      "source": [
        "model = get_model(max_length= 80)"
      ],
      "execution_count": 51,
      "outputs": [
        {
          "output_type": "stream",
          "text": [
            "Model: \"model_2\"\n",
            "_________________________________________________________________\n",
            "Layer (type)                 Output Shape              Param #   \n",
            "=================================================================\n",
            "input_3 (InputLayer)         [(None, 80)]              0         \n",
            "_________________________________________________________________\n",
            "embedding_1 (Embedding)      (None, 80, 300)           55442100  \n",
            "_________________________________________________________________\n",
            "bidirectional_2 (Bidirection (None, 80, 256)           439296    \n",
            "_________________________________________________________________\n",
            "conv1d_2 (Conv1D)            (None, 78, 64)            49216     \n",
            "_________________________________________________________________\n",
            "global_max_pooling1d_2 (Glob (None, 64)                0         \n",
            "_________________________________________________________________\n",
            "dense_4 (Dense)              (None, 128)               8320      \n",
            "_________________________________________________________________\n",
            "dropout_2 (Dropout)          (None, 128)               0         \n",
            "_________________________________________________________________\n",
            "dense_5 (Dense)              (None, 1)                 129       \n",
            "=================================================================\n",
            "Total params: 55,939,061\n",
            "Trainable params: 496,961\n",
            "Non-trainable params: 55,442,100\n",
            "_________________________________________________________________\n"
          ],
          "name": "stdout"
        }
      ]
    },
    {
      "cell_type": "code",
      "metadata": {
        "id": "BGZE3iBl1CGL"
      },
      "source": [
        "# Reduce the learning rate when the model is not improving\n",
        "reduce_learning_rate = ReduceLROnPlateau(monitor=\"val_accuracy\",\n",
        "                                         factor=0.2,\n",
        "                                         patience=2,\n",
        "                                         verbose=1,\n",
        "                                         mode= 'auto'\n",
        "                                         )\n",
        "\n",
        "earlystopping= EarlyStopping(monitor=\"val_accuracy\",\n",
        "                             patience=PATIENCE,\n",
        "                             mode= 'max',\n",
        "                             restore_best_weights=True\n",
        "                             )\n",
        "\n",
        "checkpointer = ModelCheckpoint(filepath = BEST_MODEL,\n",
        "                               monitor = 'val_accuracy', \n",
        "                               verbose = 1, \n",
        "                               save_best_only = True,\n",
        "                               mode = 'max'\n",
        "                               )\n",
        "callbacks = [reduce_learning_rate, earlystopping, checkpointer]"
      ],
      "execution_count": 52,
      "outputs": []
    },
    {
      "cell_type": "code",
      "metadata": {
        "id": "3k4TmY3h1CIq"
      },
      "source": [
        "model.compile(loss='binary_crossentropy', \n",
        "              optimizer=Adam(learning_rate = LEARNING_RATE), \n",
        "              metrics=['accuracy'])"
      ],
      "execution_count": 54,
      "outputs": []
    },
    {
      "cell_type": "code",
      "metadata": {
        "colab": {
          "base_uri": "https://localhost:8080/"
        },
        "id": "oKJ-2slA1CK_",
        "outputId": "f35c0552-0dd2-438c-8617-142a901ca330"
      },
      "source": [
        "history = model.fit(X_train,\n",
        "                  y_train,\n",
        "                  batch_size=512,\n",
        "                  epochs=EPOCHS,\n",
        "                  validation_data=(X_val, y_val),\n",
        "                  callbacks=[callbacks])"
      ],
      "execution_count": 55,
      "outputs": [
        {
          "output_type": "stream",
          "text": [
            "Epoch 1/4\n",
            "1633/1633 [==============================] - 86s 50ms/step - loss: 0.1459 - accuracy: 0.9457 - val_loss: 0.1129 - val_accuracy: 0.9560\n",
            "\n",
            "Epoch 00001: val_accuracy improved from -inf to 0.95603, saving model to /content/drive/MyDrive/Quora Insincere Questions Classification/BEST_MODEL/model.hdf5\n",
            "Epoch 2/4\n",
            "1633/1633 [==============================] - 81s 50ms/step - loss: 0.1083 - accuracy: 0.9573 - val_loss: 0.1079 - val_accuracy: 0.9579\n",
            "\n",
            "Epoch 00002: val_accuracy improved from 0.95603 to 0.95792, saving model to /content/drive/MyDrive/Quora Insincere Questions Classification/BEST_MODEL/model.hdf5\n",
            "Epoch 3/4\n",
            "1633/1633 [==============================] - 81s 50ms/step - loss: 0.1021 - accuracy: 0.9595 - val_loss: 0.1051 - val_accuracy: 0.9588\n",
            "\n",
            "Epoch 00003: val_accuracy improved from 0.95792 to 0.95876, saving model to /content/drive/MyDrive/Quora Insincere Questions Classification/BEST_MODEL/model.hdf5\n",
            "Epoch 4/4\n",
            "1633/1633 [==============================] - 81s 50ms/step - loss: 0.0971 - accuracy: 0.9613 - val_loss: 0.1050 - val_accuracy: 0.9594\n",
            "\n",
            "Epoch 00004: val_accuracy improved from 0.95876 to 0.95942, saving model to /content/drive/MyDrive/Quora Insincere Questions Classification/BEST_MODEL/model.hdf5\n"
          ],
          "name": "stdout"
        }
      ]
    },
    {
      "cell_type": "code",
      "metadata": {
        "id": "Xkea96ox1CNW"
      },
      "source": [
        "def get_history_plot(history):\n",
        "  # summarize history for given metric\n",
        "  plt.figure(figsize=(20,5))\n",
        "  plt.subplot(1,2,1)\n",
        "  plt.plot(history.history['accuracy'])\n",
        "  plt.plot(history.history['val_accuracy'])\n",
        "  plt.title('model accuracy')\n",
        "  plt.ylabel('accuracy')\n",
        "  plt.xlabel('epoch')\n",
        "  plt.legend(['train', 'validation'], loc='upper left')\n",
        "\n",
        "  # summarize history for loss\n",
        "  plt.subplot(1,2,2)\n",
        "  plt.plot(history.history['loss'])\n",
        "  plt.plot(history.history['val_loss'])\n",
        "  plt.title('model loss')\n",
        "  plt.ylabel('loss')\n",
        "  plt.xlabel('epoch')\n",
        "  plt.legend(['train', 'validation'], loc='upper left')"
      ],
      "execution_count": 45,
      "outputs": []
    },
    {
      "cell_type": "code",
      "metadata": {
        "colab": {
          "base_uri": "https://localhost:8080/",
          "height": 228
        },
        "id": "WMPw-qqw1CP-",
        "outputId": "50263ef4-1d7f-4ff9-e0a5-4d4ca9938bcb"
      },
      "source": [
        "get_history_plot(history)"
      ],
      "execution_count": 56,
      "outputs": [
        {
          "output_type": "display_data",
          "data": {
            "image/png": "[encoded data removed]",
            "text/plain": [
              "<Figure size 1440x360 with 2 Axes>"
            ]
          },
          "metadata": {
            "tags": [],
            "needs_background": "light"
          }
        }
      ]
    },
    {
      "cell_type": "code",
      "metadata": {
        "colab": {
          "base_uri": "https://localhost:8080/"
        },
        "id": "rsWWGCHluBUY",
        "outputId": "cdc43fad-757f-4435-cc91-78249c46aa22"
      },
      "source": [
        "%time\n",
        "prediction_val = model.predict(X_val)"
      ],
      "execution_count": 62,
      "outputs": [
        {
          "output_type": "stream",
          "text": [
            "CPU times: user 2 µs, sys: 1e+03 ns, total: 3 µs\n",
            "Wall time: 5.25 µs\n"
          ],
          "name": "stdout"
        }
      ]
    },
    {
      "cell_type": "code",
      "metadata": {
        "colab": {
          "base_uri": "https://localhost:8080/"
        },
        "id": "r06iy0qwsItB",
        "outputId": "3f6c4fc9-f40f-47a7-abf4-0bef881fc280"
      },
      "source": [
        "# Finding threshold\n",
        "threshold = np.arange(0.1,0.52,0.02)\n",
        "for t in threshold:\n",
        "  print('f1-score {0:2.4f} at threshold {1:2.2f}'.format(f1_score(y_val, (prediction_val>t).astype(int)), t))"
      ],
      "execution_count": 81,
      "outputs": [
        {
          "output_type": "stream",
          "text": [
            "f1-score 0.6106 at threshold 0.10\n",
            "f1-score 0.6246 at threshold 0.12\n",
            "f1-score 0.6353 at threshold 0.14\n",
            "f1-score 0.6423 at threshold 0.16\n",
            "f1-score 0.6496 at threshold 0.18\n",
            "f1-score 0.6550 at threshold 0.20\n",
            "f1-score 0.6594 at threshold 0.22\n",
            "f1-score 0.6631 at threshold 0.24\n",
            "f1-score 0.6660 at threshold 0.26\n",
            "f1-score 0.6671 at threshold 0.28\n",
            "f1-score 0.6678 at threshold 0.30\n",
            "f1-score 0.6689 at threshold 0.32\n",
            "f1-score 0.6688 at threshold 0.34\n",
            "f1-score 0.6680 at threshold 0.36\n",
            "f1-score 0.6667 at threshold 0.38\n",
            "f1-score 0.6656 at threshold 0.40\n",
            "f1-score 0.6647 at threshold 0.42\n",
            "f1-score 0.6617 at threshold 0.44\n",
            "f1-score 0.6575 at threshold 0.46\n",
            "f1-score 0.6516 at threshold 0.48\n",
            "f1-score 0.6465 at threshold 0.50\n"
          ],
          "name": "stdout"
        }
      ]
    },
    {
      "cell_type": "markdown",
      "metadata": {
        "id": "l59MYDxJwy92"
      },
      "source": [
        "**Observation :**\n",
        "\n",
        "threshold of 0.32 gives the highest f1-score"
      ]
    },
    {
      "cell_type": "code",
      "metadata": {
        "colab": {
          "base_uri": "https://localhost:8080/"
        },
        "id": "-tL_m-oQn3Sb",
        "outputId": "bd9a537f-ae32-402b-95ba-b16f86977870"
      },
      "source": [
        "# Getting prediction\n",
        "%time\n",
        "prediction = model.predict(X_test, verbose=1)"
      ],
      "execution_count": 82,
      "outputs": [
        {
          "output_type": "stream",
          "text": [
            "CPU times: user 3 µs, sys: 0 ns, total: 3 µs\n",
            "Wall time: 7.87 µs\n",
            "8164/8164 [==============================] - 38s 5ms/step\n"
          ],
          "name": "stdout"
        }
      ]
    },
    {
      "cell_type": "code",
      "metadata": {
        "id": "e8LCK6Xqxd8V"
      },
      "source": [
        "prediction = [1 if prob >= 0.32 else 0 for prob in prediction]"
      ],
      "execution_count": 83,
      "outputs": []
    },
    {
      "cell_type": "code",
      "metadata": {
        "colab": {
          "base_uri": "https://localhost:8080/",
          "height": 422
        },
        "id": "iapIpVAOx10Y",
        "outputId": "1d39a7b2-1286-4b2b-cc07-07bca925f5ad"
      },
      "source": [
        "output = pd.DataFrame (prediction, columns=['prediction'])\n",
        "output"
      ],
      "execution_count": 89,
      "outputs": [
        {
          "output_type": "execute_result",
          "data": {
            "text/html": [
              "<div>\n",
              "<style scoped>\n",
              "    .dataframe tbody tr th:only-of-type {\n",
              "        vertical-align: middle;\n",
              "    }\n",
              "\n",
              "    .dataframe tbody tr th {\n",
              "        vertical-align: top;\n",
              "    }\n",
              "\n",
              "    .dataframe thead th {\n",
              "        text-align: right;\n",
              "    }\n",
              "</style>\n",
              "<table border=\"1\" class=\"dataframe\">\n",
              "  <thead>\n",
              "    <tr style=\"text-align: right;\">\n",
              "      <th></th>\n",
              "      <th>prediction</th>\n",
              "    </tr>\n",
              "  </thead>\n",
              "  <tbody>\n",
              "    <tr>\n",
              "      <th>0</th>\n",
              "      <td>0</td>\n",
              "    </tr>\n",
              "    <tr>\n",
              "      <th>1</th>\n",
              "      <td>0</td>\n",
              "    </tr>\n",
              "    <tr>\n",
              "      <th>2</th>\n",
              "      <td>0</td>\n",
              "    </tr>\n",
              "    <tr>\n",
              "      <th>3</th>\n",
              "      <td>1</td>\n",
              "    </tr>\n",
              "    <tr>\n",
              "      <th>4</th>\n",
              "      <td>1</td>\n",
              "    </tr>\n",
              "    <tr>\n",
              "      <th>...</th>\n",
              "      <td>...</td>\n",
              "    </tr>\n",
              "    <tr>\n",
              "      <th>261220</th>\n",
              "      <td>0</td>\n",
              "    </tr>\n",
              "    <tr>\n",
              "      <th>261221</th>\n",
              "      <td>0</td>\n",
              "    </tr>\n",
              "    <tr>\n",
              "      <th>261222</th>\n",
              "      <td>1</td>\n",
              "    </tr>\n",
              "    <tr>\n",
              "      <th>261223</th>\n",
              "      <td>0</td>\n",
              "    </tr>\n",
              "    <tr>\n",
              "      <th>261224</th>\n",
              "      <td>0</td>\n",
              "    </tr>\n",
              "  </tbody>\n",
              "</table>\n",
              "<p>261225 rows × 1 columns</p>\n",
              "</div>"
            ],
            "text/plain": [
              "        prediction\n",
              "0                0\n",
              "1                0\n",
              "2                0\n",
              "3                1\n",
              "4                1\n",
              "...            ...\n",
              "261220           0\n",
              "261221           0\n",
              "261222           1\n",
              "261223           0\n",
              "261224           0\n",
              "\n",
              "[261225 rows x 1 columns]"
            ]
          },
          "metadata": {
            "tags": []
          },
          "execution_count": 89
        }
      ]
    }
  ]
}