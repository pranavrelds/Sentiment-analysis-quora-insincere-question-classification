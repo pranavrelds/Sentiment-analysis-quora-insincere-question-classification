{
  "nbformat": 4,
  "nbformat_minor": 0,
  "metadata": {
    "colab": {
      "name": "Quora_Insincere_Questions_Classification_Random_Forest.ipynb",
      "provenance": [],
      "collapsed_sections": [
        "fhp0o08-sND4",
        "ngmQJzcaNtaG"
      ],
      "machine_shape": "hm",
      "include_colab_link": true
    },
    "kernelspec": {
      "name": "python3",
      "display_name": "Python 3"
    },
    "language_info": {
      "name": "python"
    },
    "accelerator": "TPU"
  },
  "cells": [
    {
      "cell_type": "markdown",
      "metadata": {
        "id": "view-in-github",
        "colab_type": "text"
      },
      "source": [
        "<a href=\"https://colab.research.google.com/github/pranavrelds/Sentiment-analysis-quora-insincere-question-classification/blob/main/Quora_Insincere_Questions_Classification_Random_Forest.ipynb\" target=\"_parent\"><img src=\"https://colab.research.google.com/assets/colab-badge.svg\" alt=\"Open In Colab\"/></a>"
      ]
    },
    {
      "cell_type": "code",
      "metadata": {
        "colab": {
          "base_uri": "https://localhost:8080/"
        },
        "id": "x8BPOrHxsMUo",
        "outputId": "2235328b-1192-4f72-daeb-2b2131a30689"
      },
      "source": [
        "from google.colab import drive\n",
        "drive.mount('/content/drive')"
      ],
      "execution_count": 28,
      "outputs": [
        {
          "output_type": "stream",
          "text": [
            "Drive already mounted at /content/drive; to attempt to forcibly remount, call drive.mount(\"/content/drive\", force_remount=True).\n"
          ],
          "name": "stdout"
        }
      ]
    },
    {
      "cell_type": "markdown",
      "metadata": {
        "id": "fhp0o08-sND4"
      },
      "source": [
        "# Libraries"
      ]
    },
    {
      "cell_type": "code",
      "metadata": {
        "id": "FLQYkejPrxbJ",
        "colab": {
          "base_uri": "https://localhost:8080/"
        },
        "outputId": "11e38cfb-6f0d-4f3f-824e-c0a2634e684e"
      },
      "source": [
        "import re\n",
        "import pickle\n",
        "import numpy as np\n",
        "import pandas as pd\n",
        "import seaborn as sns\n",
        "from tqdm.notebook import tqdm\n",
        "import matplotlib.pyplot as plt\n",
        "from scipy.sparse import hstack\n",
        "\n",
        "from sklearn.utils import resample\n",
        "from sklearn.preprocessing import StandardScaler\n",
        "from sklearn.metrics import classification_report\n",
        "from sklearn.ensemble import RandomForestClassifier\n",
        "from sklearn.model_selection import train_test_split\n",
        "from sklearn.feature_extraction.text import TfidfVectorizer\n",
        "\n",
        "%cd /content/drive/MyDrive/Quora Insincere Questions Classification\n",
        "from utilities import get_clean_text, get_lemmatization, get_features"
      ],
      "execution_count": 59,
      "outputs": [
        {
          "output_type": "stream",
          "text": [
            "/content/drive/MyDrive/Quora Insincere Questions Classification\n"
          ],
          "name": "stdout"
        }
      ]
    },
    {
      "cell_type": "markdown",
      "metadata": {
        "id": "lytOonV7C8gl"
      },
      "source": [
        "# Configurations"
      ]
    },
    {
      "cell_type": "code",
      "metadata": {
        "id": "tcTXSwxtDGqj"
      },
      "source": [
        "DIR = '/content/drive/MyDrive/Quora Insincere Questions Classification/'\n",
        "DF_TRAIN = pd.read_csv(DIR+'train.csv')"
      ],
      "execution_count": 4,
      "outputs": []
    },
    {
      "cell_type": "markdown",
      "metadata": {
        "id": "vcwbpgdjmAVj"
      },
      "source": [
        "# Base Model with Random Forest\n"
      ]
    },
    {
      "cell_type": "markdown",
      "metadata": {
        "id": "vDJMHmHFtG1I"
      },
      "source": [
        "## Preprocessing"
      ]
    },
    {
      "cell_type": "code",
      "metadata": {
        "id": "o3Aw9I1qoP9b",
        "colab": {
          "base_uri": "https://localhost:8080/",
          "height": 315
        },
        "outputId": "66f7db85-9c44-489a-fccf-5f8e717ec323"
      },
      "source": [
        "# Copy of original dataframe\n",
        "DF_PREPROCESS = DF_TRAIN.copy()\n",
        "\n",
        "# Cleaning of text (removal of tags, symbols, stopwords, abbreviations)\n",
        "DF_PREPROCESS['clean_question_text'] = DF_PREPROCESS['question_text'].apply(lambda x : get_clean_text(x))\n",
        "\n",
        "# Lemmatize clean text\n",
        "DF_PREPROCESS['clean_question_text_lemmatized'] = DF_PREPROCESS['clean_question_text'].apply(lambda x : get_lemmatization(x))\n",
        "\n",
        "# Get feaetures like like number of stopwords, punctuations etc\n",
        "DF_PREPROCESS =  get_features(DF_PREPROCESS, 'question_text')\n",
        "\n",
        "# Checkpoint\n",
        "DF_PREPROCESS.to_csv(DIR+'df_preprocessed.csv', index=False)\n",
        "DF_PREPROCESS.head(3)"
      ],
      "execution_count": 60,
      "outputs": [
        {
          "output_type": "execute_result",
          "data": {
            "text/html": [
              "<div>\n",
              "<style scoped>\n",
              "    .dataframe tbody tr th:only-of-type {\n",
              "        vertical-align: middle;\n",
              "    }\n",
              "\n",
              "    .dataframe tbody tr th {\n",
              "        vertical-align: top;\n",
              "    }\n",
              "\n",
              "    .dataframe thead th {\n",
              "        text-align: right;\n",
              "    }\n",
              "</style>\n",
              "<table border=\"1\" class=\"dataframe\">\n",
              "  <thead>\n",
              "    <tr style=\"text-align: right;\">\n",
              "      <th></th>\n",
              "      <th>qid</th>\n",
              "      <th>question_text</th>\n",
              "      <th>target</th>\n",
              "      <th>clean_question_text</th>\n",
              "      <th>clean_question_text_lemmatized</th>\n",
              "      <th>char_counts</th>\n",
              "      <th>char_length</th>\n",
              "      <th>word_counts</th>\n",
              "      <th>avg_wordlength</th>\n",
              "      <th>stopwords_counts</th>\n",
              "      <th>digits_counts</th>\n",
              "      <th>uppercase_counts</th>\n",
              "      <th>titlewords_count</th>\n",
              "      <th>unique_words_count</th>\n",
              "      <th>numbers_count</th>\n",
              "      <th>punctuations_count</th>\n",
              "    </tr>\n",
              "  </thead>\n",
              "  <tbody>\n",
              "    <tr>\n",
              "      <th>0</th>\n",
              "      <td>00002165364db923c7e6</td>\n",
              "      <td>How did Quebec nationalists see their province...</td>\n",
              "      <td>0</td>\n",
              "      <td>how quebec nationalists province nation 1960s</td>\n",
              "      <td>how quebec nationalists province nation 1960s</td>\n",
              "      <td>60</td>\n",
              "      <td>72</td>\n",
              "      <td>13</td>\n",
              "      <td>4.615385</td>\n",
              "      <td>7</td>\n",
              "      <td>1</td>\n",
              "      <td>0</td>\n",
              "      <td>2</td>\n",
              "      <td>13</td>\n",
              "      <td>4</td>\n",
              "      <td>1</td>\n",
              "    </tr>\n",
              "    <tr>\n",
              "      <th>1</th>\n",
              "      <td>000032939017120e6e44</td>\n",
              "      <td>Do you have an adopted dog, how would you enco...</td>\n",
              "      <td>0</td>\n",
              "      <td>do adopted dog encourage people adopt shop</td>\n",
              "      <td>do adopted dog encourage people adopt shop</td>\n",
              "      <td>66</td>\n",
              "      <td>81</td>\n",
              "      <td>16</td>\n",
              "      <td>4.125000</td>\n",
              "      <td>9</td>\n",
              "      <td>1</td>\n",
              "      <td>0</td>\n",
              "      <td>1</td>\n",
              "      <td>15</td>\n",
              "      <td>0</td>\n",
              "      <td>2</td>\n",
              "    </tr>\n",
              "    <tr>\n",
              "      <th>2</th>\n",
              "      <td>0000412ca6e4628ce2cf</td>\n",
              "      <td>Why does velocity affect time? Does velocity a...</td>\n",
              "      <td>0</td>\n",
              "      <td>why velocity affect time does velocity affect ...</td>\n",
              "      <td>why velocity affect time does velocity affect ...</td>\n",
              "      <td>58</td>\n",
              "      <td>67</td>\n",
              "      <td>10</td>\n",
              "      <td>5.800000</td>\n",
              "      <td>1</td>\n",
              "      <td>0</td>\n",
              "      <td>0</td>\n",
              "      <td>2</td>\n",
              "      <td>8</td>\n",
              "      <td>0</td>\n",
              "      <td>2</td>\n",
              "    </tr>\n",
              "  </tbody>\n",
              "</table>\n",
              "</div>"
            ],
            "text/plain": [
              "                    qid  ... punctuations_count\n",
              "0  00002165364db923c7e6  ...                  1\n",
              "1  000032939017120e6e44  ...                  2\n",
              "2  0000412ca6e4628ce2cf  ...                  2\n",
              "\n",
              "[3 rows x 16 columns]"
            ]
          },
          "metadata": {
            "tags": []
          },
          "execution_count": 60
        }
      ]
    },
    {
      "cell_type": "markdown",
      "metadata": {
        "id": "BSgwq0KvsXcV"
      },
      "source": [
        "## Splitting Data into Train, Test Sets"
      ]
    },
    {
      "cell_type": "code",
      "metadata": {
        "colab": {
          "base_uri": "https://localhost:8080/"
        },
        "id": "79HcDITn2hhm",
        "outputId": "8cf01d8a-4cdd-4292-cfe4-f48b8916a338"
      },
      "source": [
        "# Downsamplong majority class(sincere questions) just to speed up the process\n",
        "sincere = DF_PREPROCESS[DF_PREPROCESS.target == 0]\n",
        "insincere = DF_PREPROCESS[DF_PREPROCESS.target == 1]\n",
        "\n",
        "TRAIN_DOWNSAMPLED = pd.concat([resample(\n",
        "                     sincere,\n",
        "                     replace = False,\n",
        "                     n_samples = len(insincere)), insincere])\n",
        "\n",
        "print('Number of questions in the original data : ', DF_PREPROCESS.shape[0])\n",
        "print('Number of questions in the downsampled data : ', TRAIN_DOWNSAMPLED.shape[0])"
      ],
      "execution_count": 9,
      "outputs": [
        {
          "output_type": "stream",
          "text": [
            "Number of questions in the original data :  1306122\n",
            "Number of questions in the downsampled data :  161620\n"
          ],
          "name": "stdout"
        }
      ]
    },
    {
      "cell_type": "code",
      "metadata": {
        "colab": {
          "base_uri": "https://localhost:8080/",
          "height": 279
        },
        "id": "WlPPKveV2z1S",
        "outputId": "97989541-eab7-4094-e798-9e6c680a88be"
      },
      "source": [
        "# Distribution of classes after downsampling\n",
        "sns.countplot(x = TRAIN_DOWNSAMPLED.target)\n",
        "plt.show()"
      ],
      "execution_count": 17,
      "outputs": [
        {
          "output_type": "display_data",
          "data": {
            "image/png": "[encoded data removed]",
            "text/plain": [
              "<Figure size 432x288 with 1 Axes>"
            ]
          },
          "metadata": {
            "tags": [],
            "needs_background": "light"
          }
        }
      ]
    },
    {
      "cell_type": "markdown",
      "metadata": {
        "id": "5y1kLX7FZFid"
      },
      "source": [
        "## Splitting Data into Training and Test Sets"
      ]
    },
    {
      "cell_type": "code",
      "metadata": {
        "colab": {
          "base_uri": "https://localhost:8080/"
        },
        "id": "_1Y0VF3-3o9X",
        "outputId": "72d0ffa4-bc06-4cc9-cc5c-bc756db1458b"
      },
      "source": [
        "X = TRAIN_DOWNSAMPLED.drop(['qid','target', 'question_text', 'clean_question_text'], axis=1)\n",
        "y = TRAIN_DOWNSAMPLED['target']\n",
        "X_train, X_test, y_train, y_test = train_test_split(X, y, test_size=0.2, stratify = y ,random_state=0)\n",
        "\n",
        "print('Number of questions in training set : ', X_train.shape[0])\n",
        "print('Number of questions in test set : ', X_test.shape[0])"
      ],
      "execution_count": 32,
      "outputs": [
        {
          "output_type": "stream",
          "text": [
            "Number of questions in training set :  129296\n",
            "Number of questions in test set :  32324\n"
          ],
          "name": "stdout"
        }
      ]
    },
    {
      "cell_type": "markdown",
      "metadata": {
        "id": "mTrbENgKsdi3"
      },
      "source": [
        "## Tfidf Vectors of Cleaned Text Data"
      ]
    },
    {
      "cell_type": "code",
      "metadata": {
        "colab": {
          "base_uri": "https://localhost:8080/"
        },
        "id": "wSF1zeJki9El",
        "outputId": "b94cf0c6-4c7f-4e56-e308-8e1fb32beb65"
      },
      "source": [
        "tfidf = TfidfVectorizer(stop_words='english', ngram_range=(1, 3))\n",
        "tfidf.fit_transform(list(DF_PREPROCESS['clean_question_text_lemmatized'].values))\n",
        "\n",
        "# Transforming X\n",
        "X_train_tfidf = tfidf.transform(X_train['clean_question_text_lemmatized'].values)\n",
        "X_test_tfidf = tfidf.transform(X_test['clean_question_text_lemmatized'].values)\n",
        "\n",
        "print('Shape of training data : ',X_train_tfidf.shape)\n",
        "print('Shape of test data : ',X_test_tfidf.shape)"
      ],
      "execution_count": 33,
      "outputs": [
        {
          "output_type": "stream",
          "text": [
            "Shape of training data :  (129296, 8308880)\n",
            "Shape of test data :  (32324, 8308880)\n"
          ],
          "name": "stdout"
        }
      ]
    },
    {
      "cell_type": "code",
      "metadata": {
        "id": "ACPOgmBs0peJ"
      },
      "source": [
        "# Stacking all the featutes togther columnwise\n",
        "X_train_stacked = hstack((\n",
        "    X_train['char_counts'].values.reshape(-1,1),\n",
        "    X_train['char_length'].values.reshape(-1,1),\n",
        "    X_train['word_counts'].values.reshape(-1,1),\n",
        "    X_train['avg_wordlength'].values.reshape(-1,1),\n",
        "    X_train['stopwords_counts'].values.reshape(-1,1),\n",
        "    X_train['digits_counts'].values.reshape(-1,1),\n",
        "    X_train['uppercase_counts'].values.reshape(-1,1),\n",
        "    X_train['titlewords_count'].values.reshape(-1,1),\n",
        "    X_train['unique_words_count'].values.reshape(-1,1),\n",
        "    X_train['numbers_count'].values.reshape(-1,1),\n",
        "    X_train['punctuations_count'].values.reshape(-1,1),\n",
        "    X_train_tfidf\n",
        "    ))\n",
        "\n",
        "X_test_stacked = hstack((\n",
        "    X_test['char_counts'].values.reshape(-1,1),\n",
        "    X_test['char_length'].values.reshape(-1,1),\n",
        "    X_test['word_counts'].values.reshape(-1,1),\n",
        "    X_test['avg_wordlength'].values.reshape(-1,1),\n",
        "    X_test['stopwords_counts'].values.reshape(-1,1),\n",
        "    X_test['digits_counts'].values.reshape(-1,1),\n",
        "    X_test['uppercase_counts'].values.reshape(-1,1),\n",
        "    X_test['titlewords_count'].values.reshape(-1,1),\n",
        "    X_test['unique_words_count'].values.reshape(-1,1),\n",
        "    X_test['numbers_count'].values.reshape(-1,1),\n",
        "    X_test['punctuations_count'].values.reshape(-1,1), \n",
        "    X_test_tfidf\n",
        "    ))"
      ],
      "execution_count": 26,
      "outputs": []
    },
    {
      "cell_type": "markdown",
      "metadata": {
        "id": "1x46YVhbNDuq"
      },
      "source": [
        "## Model"
      ]
    },
    {
      "cell_type": "code",
      "metadata": {
        "colab": {
          "base_uri": "https://localhost:8080/"
        },
        "id": "hHVgDeqAH9fs",
        "outputId": "235a9ab6-f79a-4fe2-80bc-7fed16de7dd1"
      },
      "source": [
        "model_rf = RandomForestClassifier(verbose=2, n_jobs=-1)\n",
        "model_rf.fit(X_train_stacked, y_train)\n",
        "\n",
        "# Saving model\n",
        "pickle.dump(model_rf,open(DIR+'model_rf.pkl','wb'))"
      ],
      "execution_count": 27,
      "outputs": [
        {
          "output_type": "stream",
          "text": [
            "[Parallel(n_jobs=-1)]: Using backend ThreadingBackend with 40 concurrent workers.\n"
          ],
          "name": "stderr"
        },
        {
          "output_type": "stream",
          "text": [
            "building tree 1 of 100\n",
            "building tree 2 of 100\n",
            "building tree 3 of 100\n",
            "building tree 4 of 100\n",
            "building tree 5 of 100\n",
            "building tree 6 of 100\n",
            "building tree 7 of 100\n",
            "building tree 8 of 100\n",
            "building tree 9 of 100\n",
            "building tree 10 of 100\n",
            "building tree 11 of 100building tree 12 of 100\n",
            "\n",
            "building tree 13 of 100\n",
            "building tree 14 of 100\n",
            "building tree 15 of 100\n",
            "building tree 16 of 100\n",
            "building tree 17 of 100\n",
            "building tree 18 of 100\n",
            "building tree 19 of 100\n",
            "building tree 20 of 100\n",
            "building tree 21 of 100building tree 22 of 100\n",
            "\n",
            "building tree 23 of 100\n",
            "building tree 24 of 100\n",
            "building tree 25 of 100\n",
            "building tree 26 of 100\n",
            "building tree 27 of 100building tree 28 of 100\n",
            "\n",
            "building tree 29 of 100\n",
            "building tree 30 of 100\n",
            "building tree 31 of 100\n",
            "building tree 32 of 100\n",
            "building tree 33 of 100\n",
            "building tree 34 of 100\n",
            "building tree 35 of 100\n",
            "building tree 36 of 100\n",
            "building tree 37 of 100\n",
            "building tree 38 of 100\n",
            "building tree 39 of 100\n",
            "building tree 40 of 100\n",
            "building tree 41 of 100\n",
            "building tree 42 of 100\n",
            "building tree 43 of 100\n",
            "building tree 44 of 100\n",
            "building tree 45 of 100\n",
            "building tree 46 of 100\n",
            "building tree 47 of 100\n",
            "building tree 48 of 100\n",
            "building tree 49 of 100\n",
            "building tree 50 of 100\n",
            "building tree 51 of 100\n",
            "building tree 52 of 100\n",
            "building tree 53 of 100\n",
            "building tree 54 of 100\n",
            "building tree 55 of 100\n",
            "building tree 56 of 100\n",
            "building tree 57 of 100\n",
            "building tree 58 of 100\n",
            "building tree 59 of 100\n",
            "building tree 60 of 100\n",
            "building tree 61 of 100\n",
            "building tree 62 of 100\n",
            "building tree 63 of 100\n",
            "building tree 64 of 100\n",
            "building tree 65 of 100\n",
            "building tree 66 of 100\n",
            "building tree 67 of 100\n",
            "building tree 68 of 100\n",
            "building tree 69 of 100\n",
            "building tree 70 of 100\n",
            "building tree 71 of 100\n",
            "building tree 72 of 100\n",
            "building tree 73 of 100\n",
            "building tree 74 of 100\n",
            "building tree 75 of 100\n",
            "building tree 76 of 100\n",
            "building tree 77 of 100\n",
            "building tree 78 of 100\n",
            "building tree 79 of 100\n",
            "building tree 80 of 100\n",
            "building tree 81 of 100\n",
            "building tree 82 of 100\n",
            "building tree 83 of 100\n",
            "building tree 84 of 100\n",
            "building tree 85 of 100\n",
            "building tree 86 of 100\n",
            "building tree 87 of 100\n",
            "building tree 88 of 100\n",
            "building tree 89 of 100\n",
            "building tree 90 of 100\n",
            "building tree 91 of 100\n",
            "building tree 92 of 100\n",
            "building tree 93 of 100\n",
            "building tree 94 of 100\n",
            "building tree 95 of 100\n",
            "building tree 96 of 100\n",
            "building tree 97 of 100\n",
            "building tree 98 of 100\n",
            "building tree 99 of 100\n",
            "building tree 100 of 100\n"
          ],
          "name": "stdout"
        },
        {
          "output_type": "stream",
          "text": [
            "[Parallel(n_jobs=-1)]: Done  72 out of 100 | elapsed: 65.8min remaining: 25.6min\n",
            "[Parallel(n_jobs=-1)]: Done 100 out of 100 | elapsed: 82.0min finished\n"
          ],
          "name": "stderr"
        }
      ]
    },
    {
      "cell_type": "markdown",
      "metadata": {
        "id": "2X2oa8QuNGs-"
      },
      "source": [
        "## Prediction"
      ]
    },
    {
      "cell_type": "code",
      "metadata": {
        "colab": {
          "base_uri": "https://localhost:8080/"
        },
        "id": "mgJnuGhFMbt3",
        "outputId": "7393266b-6735-42ce-b2e9-62abb0ad87a0"
      },
      "source": [
        "y_pred = model_rf.predict(X_test_stacked)\n",
        "print('\\n','Classification Report', '\\n', classification_report(y_test, y_pred))"
      ],
      "execution_count": 63,
      "outputs": [
        {
          "output_type": "stream",
          "text": [
            "[Parallel(n_jobs=40)]: Using backend ThreadingBackend with 40 concurrent workers.\n",
            "[Parallel(n_jobs=40)]: Done  72 out of 100 | elapsed:    2.5s remaining:    1.0s\n"
          ],
          "name": "stderr"
        },
        {
          "output_type": "stream",
          "text": [
            "\n",
            " Classification Report \n",
            "               precision    recall  f1-score   support\n",
            "\n",
            "           0       0.85      0.86      0.85     16162\n",
            "           1       0.86      0.85      0.85     16162\n",
            "\n",
            "    accuracy                           0.85     32324\n",
            "   macro avg       0.85      0.85      0.85     32324\n",
            "weighted avg       0.85      0.85      0.85     32324\n",
            "\n"
          ],
          "name": "stdout"
        },
        {
          "output_type": "stream",
          "text": [
            "[Parallel(n_jobs=40)]: Done 100 out of 100 | elapsed:    2.9s finished\n"
          ],
          "name": "stderr"
        }
      ]
    }
  ]
}