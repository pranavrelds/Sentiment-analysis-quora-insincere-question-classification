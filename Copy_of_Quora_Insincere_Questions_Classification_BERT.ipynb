{
  "nbformat": 4,
  "nbformat_minor": 0,
  "metadata": {
    "colab": {
      "name": "Copy of Quora_Insincere_Questions_Classification_BERT.ipynb",
      "provenance": [],
      "collapsed_sections": [
        "CWYLzqPnCj3H",
        "MT8b8F23jVP0",
        "7AYqnakHKFL7"
      ],
      "machine_shape": "hm",
      "include_colab_link": true
    },
    "kernelspec": {
      "name": "python3",
      "display_name": "Python 3"
    },
    "language_info": {
      "name": "python"
    },
    "accelerator": "GPU"
  },
  "cells": [
    {
      "cell_type": "markdown",
      "metadata": {
        "id": "view-in-github",
        "colab_type": "text"
      },
      "source": [
        "<a href=\"https://colab.research.google.com/github/pranavrelds/Sentiment-analysis-quora-insincere-question-classification/blob/main/Copy_of_Quora_Insincere_Questions_Classification_BERT.ipynb\" target=\"_parent\"><img src=\"https://colab.research.google.com/assets/colab-badge.svg\" alt=\"Open In Colab\"/></a>"
      ]
    },
    {
      "cell_type": "code",
      "metadata": {
        "colab": {
          "base_uri": "https://localhost:8080/"
        },
        "id": "wJYHmEZvFfrY",
        "outputId": "244a7527-fb21-4bf4-8c02-4b66b36dccb9"
      },
      "source": [
        "from google.colab import drive\n",
        "drive.mount('/content/drive')"
      ],
      "execution_count": null,
      "outputs": [
        {
          "output_type": "stream",
          "text": [
            "Mounted at /content/drive\n"
          ],
          "name": "stdout"
        }
      ]
    },
    {
      "cell_type": "markdown",
      "metadata": {
        "id": "CWYLzqPnCj3H"
      },
      "source": [
        "# Libraries"
      ]
    },
    {
      "cell_type": "code",
      "metadata": {
        "id": "qTUl7D486Uw0",
        "colab": {
          "base_uri": "https://localhost:8080/"
        },
        "outputId": "f6cd50c9-e9e4-41ee-ee7e-fb82eaa07b29"
      },
      "source": [
        "# https://github.com/amaiya/ktrain\n",
        "!pip install -q ktrain"
      ],
      "execution_count": null,
      "outputs": [
        {
          "output_type": "stream",
          "text": [
            "\u001b[K     |████████████████████████████████| 25.3MB 129kB/s \n",
            "\u001b[K     |████████████████████████████████| 6.8MB 30.8MB/s \n",
            "\u001b[K     |████████████████████████████████| 983kB 48.0MB/s \n",
            "\u001b[K     |████████████████████████████████| 266kB 49.7MB/s \n",
            "\u001b[K     |████████████████████████████████| 1.9MB 9.3MB/s \n",
            "\u001b[K     |████████████████████████████████| 1.2MB 47.3MB/s \n",
            "\u001b[K     |████████████████████████████████| 471kB 54.4MB/s \n",
            "\u001b[K     |████████████████████████████████| 901kB 47.7MB/s \n",
            "\u001b[K     |████████████████████████████████| 3.3MB 53.8MB/s \n",
            "\u001b[?25h  Building wheel for ktrain (setup.py) ... \u001b[?25l\u001b[?25hdone\n",
            "  Building wheel for langdetect (setup.py) ... \u001b[?25l\u001b[?25hdone\n",
            "  Building wheel for syntok (setup.py) ... \u001b[?25l\u001b[?25hdone\n",
            "  Building wheel for seqeval (setup.py) ... \u001b[?25l\u001b[?25hdone\n",
            "  Building wheel for keras-bert (setup.py) ... \u001b[?25l\u001b[?25hdone\n",
            "  Building wheel for keras-transformer (setup.py) ... \u001b[?25l\u001b[?25hdone\n",
            "  Building wheel for keras-pos-embd (setup.py) ... \u001b[?25l\u001b[?25hdone\n",
            "  Building wheel for keras-multi-head (setup.py) ... \u001b[?25l\u001b[?25hdone\n",
            "  Building wheel for keras-layer-normalization (setup.py) ... \u001b[?25l\u001b[?25hdone\n",
            "  Building wheel for keras-position-wise-feed-forward (setup.py) ... \u001b[?25l\u001b[?25hdone\n",
            "  Building wheel for keras-embed-sim (setup.py) ... \u001b[?25l\u001b[?25hdone\n",
            "  Building wheel for keras-self-attention (setup.py) ... \u001b[?25l\u001b[?25hdone\n"
          ],
          "name": "stdout"
        }
      ]
    },
    {
      "cell_type": "code",
      "metadata": {
        "id": "LBfrO5zkb1yD"
      },
      "source": [
        "import numpy as np\n",
        "import pandas as pd\n",
        "import seaborn as sns\n",
        "\n",
        "import ktrain\n",
        "from ktrain import text\n",
        "import tensorflow as tf\n",
        "\n",
        "from sklearn.utils import resample\n",
        "from sklearn.model_selection import train_test_split"
      ],
      "execution_count": null,
      "outputs": []
    },
    {
      "cell_type": "markdown",
      "metadata": {
        "id": "rV_tVwX6Cj8i"
      },
      "source": [
        "# Configurations"
      ]
    },
    {
      "cell_type": "code",
      "metadata": {
        "id": "ma9bBzabCj_k"
      },
      "source": [
        "DIR = '/content/drive/MyDrive/Quora Insincere Questions Classification/'\n",
        "BERT = '/content/drive/MyDrive/Quora Insincere Questions Classification/BERT'\n",
        "\n",
        "DF_TRAIN = pd.read_csv(DIR+'train.csv')\n",
        "MODEL_NAME = 'bert'\n",
        "MAX_LEN = 128\n",
        "BATCH_SIZE = 10\n",
        "EPOCHS = 2"
      ],
      "execution_count": null,
      "outputs": []
    },
    {
      "cell_type": "markdown",
      "metadata": {
        "id": "rZS8lBa_4UFP"
      },
      "source": [
        "# Model"
      ]
    },
    {
      "cell_type": "code",
      "metadata": {
        "colab": {
          "base_uri": "https://localhost:8080/"
        },
        "id": "tzeJO2ReIxNv",
        "outputId": "5690fa8a-75d4-4b7a-ff21-866c6ccb4ce1"
      },
      "source": [
        "# Adding labels to dataframe\n",
        "DF_TRAIN['label'] = DF_TRAIN['target'].astype('category')\n",
        "DF_TRAIN['label'] = DF_TRAIN['label'].cat.rename_categories(['sincere', 'insincere'])\n",
        "\n",
        "# Downsampled just to speed up the process\n",
        "sincere = DF_TRAIN[DF_TRAIN.target == 0]\n",
        "insincere = DF_TRAIN[DF_TRAIN.target == 1]\n",
        "\n",
        "TRAIN_DOWNSAMPLED = pd.concat([resample(\n",
        "                     sincere,\n",
        "                     replace = False,\n",
        "                     n_samples = len(insincere)), insincere])\n",
        "\n",
        "print('Number of questions in the original data : ', DF_TRAIN.shape[0])\n",
        "print('Number of questions in the downsampled data : ', TRAIN_DOWNSAMPLED.shape[0])"
      ],
      "execution_count": null,
      "outputs": [
        {
          "output_type": "stream",
          "text": [
            "Number of questions in the original data :  1306122\n",
            "Number of questions in the downsampled data :  161620\n"
          ],
          "name": "stdout"
        }
      ]
    },
    {
      "cell_type": "code",
      "metadata": {
        "colab": {
          "base_uri": "https://localhost:8080/",
          "height": 296
        },
        "id": "HQLk2N3YSU3J",
        "outputId": "1b3c9c5c-756c-4723-86af-9eab7a634650"
      },
      "source": [
        "# Distribution of classes\n",
        "sns.countplot(TRAIN_DOWNSAMPLED.target)"
      ],
      "execution_count": null,
      "outputs": [
        {
          "output_type": "execute_result",
          "data": {
            "text/plain": [
              "<matplotlib.axes._subplots.AxesSubplot at 0x7f03055be310>"
            ]
          },
          "metadata": {
            "tags": []
          },
          "execution_count": 11
        },
        {
          "output_type": "display_data",
          "data": {
            "image/png": "[encoded data removed]",
            "text/plain": [
              "<Figure size 432x288 with 1 Axes>"
            ]
          },
          "metadata": {
            "tags": [],
            "needs_background": "light"
          }
        }
      ]
    },
    {
      "cell_type": "markdown",
      "metadata": {
        "id": "73nN9YmbaE8_"
      },
      "source": [
        "## Splitting Data into Training,Test and Validation Sets"
      ]
    },
    {
      "cell_type": "code",
      "metadata": {
        "id": "FQyxV6HqiCte",
        "colab": {
          "base_uri": "https://localhost:8080/"
        },
        "outputId": "ae653f26-9a56-4727-dfc9-bb8e8aa5b29c"
      },
      "source": [
        "data, test_data = train_test_split(TRAIN_DOWNSAMPLED, test_size=0.2, random_state=0)\n",
        "training_data, validation_data = train_test_split(data, test_size=0.2, random_state=0)\n",
        "print('Number of question in training set : ', training_data.shape[0])\n",
        "print('Number of question in validation set : ', validation_data.shape[0])\n",
        "print('Number of question in test set : ', test_data.shape[0])"
      ],
      "execution_count": null,
      "outputs": [
        {
          "output_type": "stream",
          "text": [
            "Number of question in training set :  103436\n",
            "Number of question in validation set :  25860\n",
            "Number of question in test set :  32324\n"
          ],
          "name": "stdout"
        }
      ]
    },
    {
      "cell_type": "markdown",
      "metadata": {
        "id": "ZMJcmOS3efAQ"
      },
      "source": [
        "## Preprocess the Data"
      ]
    },
    {
      "cell_type": "code",
      "metadata": {
        "id": "fvppoMHliCzC",
        "colab": {
          "base_uri": "https://localhost:8080/",
          "height": 510
        },
        "outputId": "83aa0804-91bf-40eb-f9b9-edcee7296e15"
      },
      "source": [
        "(X_train, y_train), (X_test, y_test), preproc = text.texts_from_df(train_df=training_data,\n",
        "                                                                   text_column = 'question_text',\n",
        "                                                                   label_columns = 'label',\n",
        "                                                                   val_df = validation_data,\n",
        "                                                                   maxlen = MAX_LEN,\n",
        "                                                                   preprocess_mode = MODEL_NAME)"
      ],
      "execution_count": null,
      "outputs": [
        {
          "output_type": "stream",
          "text": [
            "['insincere', 'sincere']\n",
            "        insincere  sincere\n",
            "159107        0.0      1.0\n",
            "857992        0.0      1.0\n",
            "59738         0.0      1.0\n",
            "549860        1.0      0.0\n",
            "402781        1.0      0.0\n",
            "['insincere', 'sincere']\n",
            "        insincere  sincere\n",
            "344395        1.0      0.0\n",
            "490646        1.0      0.0\n",
            "957536        0.0      1.0\n",
            "663210        1.0      0.0\n",
            "72196         0.0      1.0\n",
            "downloading pretrained BERT model (uncased_L-12_H-768_A-12.zip)...\n",
            "[██████████████████████████████████████████████████]\n",
            "extracting pretrained BERT model...\n",
            "done.\n",
            "\n",
            "cleanup downloaded zip...\n",
            "done.\n",
            "\n",
            "preprocessing train...\n",
            "language: en\n"
          ],
          "name": "stdout"
        },
        {
          "output_type": "display_data",
          "data": {
            "text/html": [
              "done."
            ],
            "text/plain": [
              "<IPython.core.display.HTML object>"
            ]
          },
          "metadata": {
            "tags": []
          }
        },
        {
          "output_type": "stream",
          "text": [
            "Is Multi-Label? False\n",
            "preprocessing test...\n",
            "language: en\n"
          ],
          "name": "stdout"
        },
        {
          "output_type": "display_data",
          "data": {
            "text/html": [
              "done."
            ],
            "text/plain": [
              "<IPython.core.display.HTML object>"
            ]
          },
          "metadata": {
            "tags": []
          }
        }
      ]
    },
    {
      "cell_type": "markdown",
      "metadata": {
        "id": "Pv-42_WbelhH"
      },
      "source": [
        "## Load the BERT Model and Instantiate a Learner object"
      ]
    },
    {
      "cell_type": "code",
      "metadata": {
        "id": "YrDShSzViC43",
        "colab": {
          "base_uri": "https://localhost:8080/"
        },
        "outputId": "14b2309a-e79d-4af4-a03c-10c133c383dd"
      },
      "source": [
        "model = text.text_classifier(name = 'bert',\n",
        "                             train_data = (X_train, y_train), \n",
        "                             preproc = preproc)"
      ],
      "execution_count": null,
      "outputs": [
        {
          "output_type": "stream",
          "text": [
            "Is Multi-Label? False\n",
            "maxlen is 128\n",
            "done.\n"
          ],
          "name": "stdout"
        }
      ]
    },
    {
      "cell_type": "code",
      "metadata": {
        "id": "2komHYwLiC7r"
      },
      "source": [
        "learner = ktrain.get_learner(model=model, train_data=(X_train, y_train),\n",
        "                   val_data = (X_test, y_test),\n",
        "                   batch_size = BATCH_SIZE)"
      ],
      "execution_count": null,
      "outputs": []
    },
    {
      "cell_type": "markdown",
      "metadata": {
        "id": "DKJQjVPFe95H"
      },
      "source": [
        "## Train the Model"
      ]
    },
    {
      "cell_type": "code",
      "metadata": {
        "id": "1JrBRAKhiC-Y",
        "colab": {
          "base_uri": "https://localhost:8080/"
        },
        "outputId": "11a61364-ae21-4c38-85e7-cc632ca9d51a"
      },
      "source": [
        "learner.fit_onecycle(lr = 2e-5, epochs = EPOCHS)\n",
        "predictor = ktrain.get_predictor(learner.model, preproc)\n",
        "predictor.save(BERT)"
      ],
      "execution_count": null,
      "outputs": [
        {
          "output_type": "stream",
          "text": [
            "\n",
            "\n",
            "begin training using onecycle policy with max lr of 2e-05...\n",
            "Epoch 1/2\n",
            "10344/10344 [==============================] - 5126s 494ms/step - loss: 0.2533 - accuracy: 0.9018 - val_loss: 0.2295 - val_accuracy: 0.9155\n",
            "Epoch 2/2\n",
            "10344/10344 [==============================] - 5105s 493ms/step - loss: 0.1666 - accuracy: 0.9407 - val_loss: 0.2107 - val_accuracy: 0.9238\n"
          ],
          "name": "stdout"
        },
        {
          "output_type": "stream",
          "text": [
            "/usr/local/lib/python3.7/dist-packages/tensorflow/python/keras/utils/generic_utils.py:497: CustomMaskWarning: Custom mask layers require a config and must override get_config. When loading, the custom mask layer must be passed to the custom_objects argument.\n",
            "  category=CustomMaskWarning)\n"
          ],
          "name": "stderr"
        }
      ]
    },
    {
      "cell_type": "markdown",
      "metadata": {
        "id": "t-oCc7WsfBHY"
      },
      "source": [
        "## Prediction"
      ]
    },
    {
      "cell_type": "code",
      "metadata": {
        "colab": {
          "base_uri": "https://localhost:8080/",
          "height": 359
        },
        "id": "imQW5OtUg1n9",
        "outputId": "2940575f-69a6-4b21-a593-3c2418dc9390"
      },
      "source": [
        "predictor = ktrain.get_predictor(learner.model, preproc)\n",
        "y_pred_test = predictor.predict(test_data.question_text.tolist())\n",
        "test = test_data['question_text'][:10].tolist()\n",
        "results = pd.DataFrame(test, y_pred_test[:10])\n",
        "results"
      ],
      "execution_count": null,
      "outputs": [
        {
          "output_type": "execute_result",
          "data": {
            "text/html": [
              "<div>\n",
              "<style scoped>\n",
              "    .dataframe tbody tr th:only-of-type {\n",
              "        vertical-align: middle;\n",
              "    }\n",
              "\n",
              "    .dataframe tbody tr th {\n",
              "        vertical-align: top;\n",
              "    }\n",
              "\n",
              "    .dataframe thead th {\n",
              "        text-align: right;\n",
              "    }\n",
              "</style>\n",
              "<table border=\"1\" class=\"dataframe\">\n",
              "  <thead>\n",
              "    <tr style=\"text-align: right;\">\n",
              "      <th></th>\n",
              "      <th>0</th>\n",
              "    </tr>\n",
              "  </thead>\n",
              "  <tbody>\n",
              "    <tr>\n",
              "      <th>insincere</th>\n",
              "      <td>Who is the creator of the Arab Spring Strategy...</td>\n",
              "    </tr>\n",
              "    <tr>\n",
              "      <th>sincere</th>\n",
              "      <td>Is it good to replace marijuana with herion?</td>\n",
              "    </tr>\n",
              "    <tr>\n",
              "      <th>sincere</th>\n",
              "      <td>Is there any exercise machine that works speci...</td>\n",
              "    </tr>\n",
              "    <tr>\n",
              "      <th>insincere</th>\n",
              "      <td>Did Democrats really complain Russian agents t...</td>\n",
              "    </tr>\n",
              "    <tr>\n",
              "      <th>insincere</th>\n",
              "      <td>Can Indian people not defecate in public?</td>\n",
              "    </tr>\n",
              "    <tr>\n",
              "      <th>sincere</th>\n",
              "      <td>How do you get negative voltage on a circuit?</td>\n",
              "    </tr>\n",
              "    <tr>\n",
              "      <th>sincere</th>\n",
              "      <td>Does repressing your feelings lead to a habit ...</td>\n",
              "    </tr>\n",
              "    <tr>\n",
              "      <th>sincere</th>\n",
              "      <td>What is so amazing about the broadway show Ham...</td>\n",
              "    </tr>\n",
              "    <tr>\n",
              "      <th>sincere</th>\n",
              "      <td>What are some of your Thanksgiving nightmares?</td>\n",
              "    </tr>\n",
              "    <tr>\n",
              "      <th>insincere</th>\n",
              "      <td>The FBI is investigating whether a top Russian...</td>\n",
              "    </tr>\n",
              "  </tbody>\n",
              "</table>\n",
              "</div>"
            ],
            "text/plain": [
              "                                                           0\n",
              "insincere  Who is the creator of the Arab Spring Strategy...\n",
              "sincere         Is it good to replace marijuana with herion?\n",
              "sincere    Is there any exercise machine that works speci...\n",
              "insincere  Did Democrats really complain Russian agents t...\n",
              "insincere          Can Indian people not defecate in public?\n",
              "sincere        How do you get negative voltage on a circuit?\n",
              "sincere    Does repressing your feelings lead to a habit ...\n",
              "sincere    What is so amazing about the broadway show Ham...\n",
              "sincere       What are some of your Thanksgiving nightmares?\n",
              "insincere  The FBI is investigating whether a top Russian..."
            ]
          },
          "metadata": {
            "tags": []
          },
          "execution_count": 46
        }
      ]
    },
    {
      "cell_type": "markdown",
      "metadata": {
        "id": "3Z7YEZUnfgoZ"
      },
      "source": [
        "**Scope of Improvement :**\n",
        "\n",
        "Insincere questions could be augmented with libraries such as nlpaug (https://github.com/makcedward/nlpaug)"
      ]
    }
  ]
}